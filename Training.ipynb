{
 "cells": [
  {
   "cell_type": "code",
   "execution_count": 1,
   "metadata": {
    "ExecuteTime": {
     "end_time": "2018-03-20T18:35:22.762606Z",
     "start_time": "2018-03-20T18:35:06.864437Z"
    }
   },
   "outputs": [
    {
     "name": "stderr",
     "output_type": "stream",
     "text": [
      "Using TensorFlow backend.\n"
     ]
    }
   ],
   "source": [
    "# Basics\n",
    "import numpy as np\n",
    "import pandas as pd\n",
    "import os, glob\n",
    "import pickle\n",
    "\n",
    "# Keras\n",
    "import keras.backend as K\n",
    "import keras.initializers as initializers\n",
    "from keras.optimizers import Adam, RMSprop, Adadelta\n",
    "from keras.losses import categorical_crossentropy\n",
    "from keras.models import Sequential, Model\n",
    "from keras.layers import Input, Activation, Add, AveragePooling3D\n",
    "from keras.layers.core import Dense, Dropout, Flatten, Reshape\n",
    "from keras.layers.convolutional import Conv3D, Cropping3D\n",
    "from keras.layers.pooling import MaxPooling3D\n",
    "from keras.layers.wrappers import TimeDistributed, Bidirectional\n",
    "\n",
    "# Visualization\n",
    "from IPython.display import SVG\n",
    "from keras.utils.vis_utils import model_to_dot\n",
    "from keras.utils import plot_model"
   ]
  },
  {
   "cell_type": "markdown",
   "metadata": {},
   "source": [
    "# Load data partitions"
   ]
  },
  {
   "cell_type": "code",
   "execution_count": 2,
   "metadata": {
    "ExecuteTime": {
     "end_time": "2018-03-20T18:35:22.768262Z",
     "start_time": "2018-03-20T18:35:22.764588Z"
    },
    "collapsed": true
   },
   "outputs": [],
   "source": [
    "with open(\"/Users/anders1991/deepbreath/Data/partition.pkl\", 'rb') as f:\n",
    "    partition = pickle.load(f)"
   ]
  },
  {
   "cell_type": "code",
   "execution_count": 3,
   "metadata": {
    "ExecuteTime": {
     "end_time": "2018-03-20T18:35:22.825241Z",
     "start_time": "2018-03-20T18:35:22.770824Z"
    }
   },
   "outputs": [
    {
     "data": {
      "text/plain": [
       "(1, 1, 142, 322, 262)"
      ]
     },
     "execution_count": 3,
     "metadata": {},
     "output_type": "execute_result"
    }
   ],
   "source": [
    "np.load(\"/Users/anders1991/deepbreath/Data/single_train/vol_62.npy\").shape"
   ]
  },
  {
   "cell_type": "markdown",
   "metadata": {},
   "source": [
    "# Load labels"
   ]
  },
  {
   "cell_type": "code",
   "execution_count": 4,
   "metadata": {
    "ExecuteTime": {
     "end_time": "2018-03-20T18:35:22.837869Z",
     "start_time": "2018-03-20T18:35:22.827494Z"
    },
    "collapsed": true
   },
   "outputs": [],
   "source": [
    "target = pd.read_csv(\"/Users/anders1991/deepbreath/Data/ERU_Scores_Ids_5-Scans_Validity-0_VisuallyScored.csv\")\n",
    "labels = target.set_index(\"StId\").to_dict()[\"ERU.M2\"]"
   ]
  },
  {
   "cell_type": "markdown",
   "metadata": {},
   "source": [
    "# Calculate class weights\n",
    "\n",
    "To handle imbalanced classes during training."
   ]
  },
  {
   "cell_type": "code",
   "execution_count": 5,
   "metadata": {
    "ExecuteTime": {
     "end_time": "2018-03-20T18:35:22.874927Z",
     "start_time": "2018-03-20T18:35:22.840072Z"
    },
    "collapsed": true
   },
   "outputs": [],
   "source": [
    "from sklearn.utils import class_weight"
   ]
  },
  {
   "cell_type": "code",
   "execution_count": 6,
   "metadata": {
    "ExecuteTime": {
     "end_time": "2018-03-20T18:35:22.980613Z",
     "start_time": "2018-03-20T18:35:22.876617Z"
    }
   },
   "outputs": [],
   "source": [
    "# weights only based on training data\n",
    "train_labels = [label for key, label in labels.items() if key in partition[\"train\"]]"
   ]
  },
  {
   "cell_type": "code",
   "execution_count": 7,
   "metadata": {
    "ExecuteTime": {
     "end_time": "2018-03-20T18:35:23.146277Z",
     "start_time": "2018-03-20T18:35:22.983006Z"
    },
    "scrolled": true
   },
   "outputs": [
    {
     "name": "stdout",
     "output_type": "stream",
     "text": [
      "[  0.2076226    4.12169312   0.92738095   1.71208791   4.83850932\n",
      "  18.54761905  55.64285714]\n"
     ]
    }
   ],
   "source": [
    "class_weights = class_weight.compute_class_weight(class_weight='balanced',\n",
    "                                                  classes=np.unique(train_labels), \n",
    "                                                  y=train_labels)\n",
    "print(class_weights)"
   ]
  },
  {
   "cell_type": "markdown",
   "metadata": {},
   "source": [
    "# Set hyperparameters"
   ]
  },
  {
   "cell_type": "code",
   "execution_count": 8,
   "metadata": {
    "ExecuteTime": {
     "end_time": "2018-03-20T18:35:23.153448Z",
     "start_time": "2018-03-20T18:35:23.148784Z"
    },
    "collapsed": true
   },
   "outputs": [],
   "source": [
    "max_epochs = 2\n",
    "batch_size = 8\n",
    "timesteps = 1\n",
    "learn_rate = 1e-3"
   ]
  },
  {
   "cell_type": "markdown",
   "metadata": {},
   "source": [
    "# Import data generator"
   ]
  },
  {
   "cell_type": "code",
   "execution_count": 9,
   "metadata": {
    "ExecuteTime": {
     "end_time": "2018-03-20T18:35:23.160023Z",
     "start_time": "2018-03-20T18:35:23.156098Z"
    },
    "collapsed": true
   },
   "outputs": [],
   "source": [
    "from data_gen import DataGenerator"
   ]
  },
  {
   "cell_type": "code",
   "execution_count": 10,
   "metadata": {
    "ExecuteTime": {
     "end_time": "2018-03-20T18:35:23.170962Z",
     "start_time": "2018-03-20T18:35:23.162274Z"
    },
    "collapsed": true
   },
   "outputs": [],
   "source": [
    "trainGen = DataGenerator(\"single_train\", batch_size=batch_size, timesteps=timesteps, \n",
    "                         channels=1, dim_x=142, dim_y=322, dim_z=262, shuffle=True)\n",
    "validGen = DataGenerator(\"single_valid\", batch_size=batch_size, timesteps=timesteps, \n",
    "                         channels=1, dim_x=142, dim_y=322, dim_z=262, shuffle=False)\n",
    "\n",
    "trainGen = trainGen.generate(labels, partition[\"train\"])\n",
    "validGen = validGen.generate(labels, partition[\"valid\"])"
   ]
  },
  {
   "cell_type": "markdown",
   "metadata": {},
   "source": [
    "# Import model"
   ]
  },
  {
   "cell_type": "code",
   "execution_count": 11,
   "metadata": {
    "ExecuteTime": {
     "end_time": "2018-03-20T18:35:23.177169Z",
     "start_time": "2018-03-20T18:35:23.173388Z"
    },
    "collapsed": true
   },
   "outputs": [],
   "source": [
    "from models import tdist_unet"
   ]
  },
  {
   "cell_type": "code",
   "execution_count": 12,
   "metadata": {
    "ExecuteTime": {
     "end_time": "2018-03-20T18:35:24.113058Z",
     "start_time": "2018-03-20T18:35:23.179347Z"
    },
    "collapsed": true
   },
   "outputs": [],
   "source": [
    "model = tdist_unet(timesteps=timesteps)"
   ]
  },
  {
   "cell_type": "code",
   "execution_count": 13,
   "metadata": {
    "ExecuteTime": {
     "end_time": "2018-03-20T18:35:24.180864Z",
     "start_time": "2018-03-20T18:35:24.115025Z"
    },
    "collapsed": true
   },
   "outputs": [],
   "source": [
    "model.compile(optimizer=Adam(lr = learn_rate), \n",
    "              loss='mean_squared_error', \n",
    "              metrics=['accuracy'])"
   ]
  },
  {
   "cell_type": "markdown",
   "metadata": {},
   "source": [
    "# Setup training session"
   ]
  },
  {
   "cell_type": "code",
   "execution_count": null,
   "metadata": {
    "ExecuteTime": {
     "start_time": "2018-03-20T18:35:06.891Z"
    },
    "scrolled": false
   },
   "outputs": [
    {
     "name": "stdout",
     "output_type": "stream",
     "text": [
      "Epoch 1/2\n"
     ]
    }
   ],
   "source": [
    "hist = model.fit_generator(generator = trainGen,\n",
    "                           steps_per_epoch = len(partition[\"train\"])//batch_size,\n",
    "                           validation_data = validGen,\n",
    "                           validation_steps = len(partition[\"valid\"])//batch_size,\n",
    "                           class_weight = class_weights,\n",
    "                           epochs = max_epochs,\n",
    "                           verbose = 2)"
   ]
  },
  {
   "cell_type": "code",
   "execution_count": null,
   "metadata": {
    "collapsed": true
   },
   "outputs": [],
   "source": []
  }
 ],
 "metadata": {
  "kernelspec": {
   "display_name": "Python [conda env:py3]",
   "language": "python",
   "name": "conda-env-py3-py"
  },
  "language_info": {
   "codemirror_mode": {
    "name": "ipython",
    "version": 3
   },
   "file_extension": ".py",
   "mimetype": "text/x-python",
   "name": "python",
   "nbconvert_exporter": "python",
   "pygments_lexer": "ipython3",
   "version": "3.6.2"
  }
 },
 "nbformat": 4,
 "nbformat_minor": 2
}
