{
 "cells": [
  {
   "cell_type": "code",
   "execution_count": 1,
   "metadata": {
    "ExecuteTime": {
     "end_time": "2018-03-18T13:00:11.233307Z",
     "start_time": "2018-03-18T13:00:10.335990Z"
    },
    "collapsed": true
   },
   "outputs": [],
   "source": [
    "import SimpleITK as sitk\n",
    "import skimage as ski\n",
    "import numpy as np\n",
    "import pandas as pd\n",
    "import os, re, glob\n",
    "import pickle\n",
    "# import ReadImages  # Image reader provided by Silas\n",
    "from IPython.display import HTML\n",
    "import matplotlib.pyplot as plt\n",
    "from matplotlib import animation\n",
    "% matplotlib inline"
   ]
  },
  {
   "cell_type": "markdown",
   "metadata": {},
   "source": [
    "-----"
   ]
  },
  {
   "cell_type": "markdown",
   "metadata": {},
   "source": [
    "# Step 1: Crop all images to minimal bounding box"
   ]
  },
  {
   "cell_type": "code",
   "execution_count": 2,
   "metadata": {
    "ExecuteTime": {
     "end_time": "2018-03-18T13:00:11.250175Z",
     "start_time": "2018-03-18T13:00:11.236092Z"
    },
    "collapsed": true
   },
   "outputs": [],
   "source": [
    "def bbox(img):\n",
    "\n",
    "    # find planes with values different from 0\n",
    "    x = np.any(img, axis=(1, 2))\n",
    "    y = np.any(img, axis=(0, 2))\n",
    "    z = np.any(img, axis=(0, 1))\n",
    "\n",
    "    xmin, xmax = np.where(x)[0][[0, -1]]\n",
    "    ymin, ymax = np.where(y)[0][[0, -1]]\n",
    "    zmin, zmax = np.where(z)[0][[0, -1]]\n",
    "\n",
    "    return xmin, xmax, ymin, ymax, zmin, zmax"
   ]
  },
  {
   "cell_type": "code",
   "execution_count": 3,
   "metadata": {
    "ExecuteTime": {
     "end_time": "2018-03-18T13:00:11.294116Z",
     "start_time": "2018-03-18T13:00:11.252984Z"
    },
    "collapsed": true
   },
   "outputs": [],
   "source": [
    "def crop_imgs(paths):\n",
    "    x = 0\n",
    "    y = 0\n",
    "    z = 0\n",
    "    \n",
    "    for path in paths:\n",
    "        \n",
    "        # load img\n",
    "        sitk_image = sitk.ReadImage(path, sitk.sitkFloat32)\n",
    "        image = sitk.GetArrayFromImage(sitk_image)\n",
    "        \n",
    "        # crop to minimal bounding box\n",
    "        xmin, xmax, ymin, ymax, zmin, zmax = bbox(image)\n",
    "        cropped = image[xmin:xmax, ymin:ymax, zmin:zmax]\n",
    "        \n",
    "        # update global max dims\n",
    "        if cropped.shape[0] > x:\n",
    "            x = cropped.shape[0]\n",
    "        if cropped.shape[1] > y:\n",
    "            y = cropped.shape[1]\n",
    "        if cropped.shape[2] > z:\n",
    "            z = cropped.shape[2]\n",
    "            \n",
    "        # export image\n",
    "        directory = \"/Users/anders1991/deepbreath/Data/Scans_cropped/\"\n",
    "        if not os.path.exists(directory):\n",
    "            os.makedirs(directory)\n",
    "        name = path.split(\"/\")[-1].split(\".nii\")[0]\n",
    "        file = directory + name + \".npy\"\n",
    "        np.save(file, cropped)\n",
    "\n",
    "    return x, y, z"
   ]
  },
  {
   "cell_type": "code",
   "execution_count": 4,
   "metadata": {
    "ExecuteTime": {
     "end_time": "2018-03-18T13:00:11.301074Z",
     "start_time": "2018-03-18T13:00:11.296215Z"
    },
    "collapsed": true,
    "scrolled": false
   },
   "outputs": [],
   "source": [
    "# get paths\n",
    "scan_paths = sorted(glob.glob(\"/Users/anders1991/deepbreath/Data/Scans/vol*.nii\"))\n",
    "\n",
    "# crop images\n",
    "dims = crop_imgs(scan_paths)"
   ]
  },
  {
   "cell_type": "code",
   "execution_count": 5,
   "metadata": {
    "ExecuteTime": {
     "end_time": "2018-03-18T13:00:12.811404Z",
     "start_time": "2018-03-18T13:00:12.806833Z"
    }
   },
   "outputs": [
    {
     "name": "stdout",
     "output_type": "stream",
     "text": [
      "Target shape: (0, 0, 0)\n"
     ]
    }
   ],
   "source": [
    "print(\"Target shape:\", dims)"
   ]
  },
  {
   "cell_type": "markdown",
   "metadata": {},
   "source": [
    "Visualization of cropped image (sanity check):"
   ]
  },
  {
   "cell_type": "code",
   "execution_count": null,
   "metadata": {
    "ExecuteTime": {
     "end_time": "2018-03-18T12:58:47.461923Z",
     "start_time": "2018-03-18T12:58:47.456548Z"
    },
    "collapsed": true,
    "scrolled": true
   },
   "outputs": [],
   "source": [
    "# # load image to visualize\n",
    "# paths = sorted(glob.glob(\"/Users/anders1991/deepbreath/Data/Scans_cropped/*.npy\"))\n",
    "# scan_bbox = np.load(paths[0])\n",
    "\n",
    "# # create figure\n",
    "# fig = plt.figure(figsize=(5,5))\n",
    "# i = np.linspace(1, scan_bbox.shape[0], num=scan_bbox.shape[0], dtype=int)-1\n",
    "# im = plt.imshow(scan_bbox[0,:,:], animated=True, cmap='jet', vmin=-1000, vmax=0)\n",
    "# plt.axis('off')\n",
    "\n",
    "# def animate(i):\n",
    "#     im.set_array(scan_bbox[i,:,:])\n",
    "#     return im\n",
    "\n",
    "# ani = animation.FuncAnimation(fig, animate, frames=scan_bbox.shape[0], \n",
    "#                               interval=40, repeat=False)\n",
    "# plt.close()\n",
    "# HTML(ani.to_html5_video())"
   ]
  },
  {
   "cell_type": "markdown",
   "metadata": {},
   "source": [
    "-----"
   ]
  },
  {
   "cell_type": "markdown",
   "metadata": {},
   "source": [
    "# Step 2: Pad all images to largest minimal bounding box"
   ]
  },
  {
   "cell_type": "code",
   "execution_count": 6,
   "metadata": {
    "ExecuteTime": {
     "end_time": "2018-03-18T13:00:16.040669Z",
     "start_time": "2018-03-18T13:00:16.028372Z"
    },
    "collapsed": true
   },
   "outputs": [],
   "source": [
    "def pad(length, target):\n",
    "    gap = target - length\n",
    "\n",
    "    if (gap > 0) and (gap % 2 == 0):\n",
    "        pad = (int(gap/2), int(gap/2))\n",
    "    elif (gap > 2):\n",
    "        pad = (int(gap/2), int(gap/2 + 1))\n",
    "    elif (gap == 1):\n",
    "        pad = (0,1)\n",
    "    else:\n",
    "        pad = (0,0)\n",
    "    \n",
    "    return pad"
   ]
  },
  {
   "cell_type": "code",
   "execution_count": 7,
   "metadata": {
    "ExecuteTime": {
     "end_time": "2018-03-18T13:00:16.251790Z",
     "start_time": "2018-03-18T13:00:16.231082Z"
    },
    "collapsed": true
   },
   "outputs": [],
   "source": [
    "def pad_img(path, target_dims):\n",
    "    x,y,z = target_dims\n",
    "    img = np.load(path)\n",
    "\n",
    "    # set pad targets, centering img\n",
    "    xpad = pad(img.shape[0], x)\n",
    "    ypad = pad(img.shape[1], y)    \n",
    "    zpad = pad(img.shape[2], z)\n",
    "    \n",
    "    # pad image\n",
    "    padded = np.pad(img, pad_width=(xpad, ypad, zpad), mode='constant', constant_values=0)\n",
    "\n",
    "    # save to disk\n",
    "    directory = \"/Users/anders1991/deepbreath/Data/Scans_padded/\"\n",
    "    if not os.path.exists(directory):\n",
    "        os.makedirs(directory)\n",
    "    name = path.split(\"/\")[-1]\n",
    "    file = directory + name\n",
    "    np.save(file, padded)"
   ]
  },
  {
   "cell_type": "code",
   "execution_count": null,
   "metadata": {
    "ExecuteTime": {
     "end_time": "2018-03-18T12:59:09.747869Z",
     "start_time": "2018-03-18T12:59:09.744308Z"
    },
    "collapsed": true,
    "scrolled": false
   },
   "outputs": [],
   "source": [
    "# get paths\n",
    "paths = glob.glob(\"/Users/anders1991/deepbreath/Data/Scans_cropped/*.npy\")\n",
    "target_dims = dims\n",
    "\n",
    "# pad images\n",
    "for path in paths:\n",
    "    pad_img(path, target_dims)"
   ]
  },
  {
   "cell_type": "markdown",
   "metadata": {},
   "source": [
    "Visualize padded scan (sanity check):"
   ]
  },
  {
   "cell_type": "code",
   "execution_count": null,
   "metadata": {
    "ExecuteTime": {
     "end_time": "2018-03-18T12:59:04.403130Z",
     "start_time": "2018-03-18T12:59:04.397570Z"
    },
    "collapsed": true,
    "scrolled": true
   },
   "outputs": [],
   "source": [
    "# # load image to visualize\n",
    "# paths = sorted(glob.glob(\"/Users/anders1991/deepbreath/Data/Scans_padded/*.npy\"))\n",
    "# scan_bbox = np.load(paths[0])\n",
    "\n",
    "# # create figure\n",
    "# fig = plt.figure(figsize=(5,5))\n",
    "# i = np.linspace(1, scan_bbox.shape[0], num=scan_bbox.shape[0], dtype=int)-1\n",
    "# im = plt.imshow(scan_bbox[0,:,:], animated=True, cmap='jet',\n",
    "#                vmin=-1000, vmax=0)\n",
    "# plt.axis('off')\n",
    "\n",
    "# def animate(i):\n",
    "#     im.set_array(scan_bbox[i,:,:])\n",
    "#     return im\n",
    "\n",
    "# ani = animation.FuncAnimation(fig, animate, frames=scan_bbox.shape[0], \n",
    "#                               interval=40, repeat=False)\n",
    "# plt.close()\n",
    "# HTML(ani.to_html5_video())"
   ]
  },
  {
   "cell_type": "markdown",
   "metadata": {},
   "source": [
    "# Step 3: Split into train, valid, test sets"
   ]
  },
  {
   "cell_type": "markdown",
   "metadata": {},
   "source": [
    "Get list of volume numbers"
   ]
  },
  {
   "cell_type": "code",
   "execution_count": null,
   "metadata": {
    "ExecuteTime": {
     "end_time": "2018-03-18T12:59:20.697196Z",
     "start_time": "2018-03-18T12:59:20.688990Z"
    },
    "collapsed": true
   },
   "outputs": [],
   "source": [
    "paths = sorted(glob.glob(\"/Users/anders1991/deepbreath/Data/Scans_padded/*.npy\"))\n",
    "\n",
    "vols = []\n",
    "for path in paths:\n",
    "    num = path.split(\"_\")[1].split(\"vol\")[-1]\n",
    "    vols.append(int(num))\n",
    "    \n",
    "vol_id = np.unique(vols)"
   ]
  },
  {
   "cell_type": "markdown",
   "metadata": {},
   "source": [
    "Split volumes into train/val/test partitions"
   ]
  },
  {
   "cell_type": "code",
   "execution_count": null,
   "metadata": {
    "ExecuteTime": {
     "end_time": "2018-03-18T12:59:24.044857Z",
     "start_time": "2018-03-18T12:59:23.848180Z"
    },
    "collapsed": true
   },
   "outputs": [],
   "source": [
    "# set seed!\n",
    "np.random.seed(2)\n",
    "\n",
    "# split partitions\n",
    "ids = np.copy(vol_id)\n",
    "partition = dict()\n",
    "\n",
    "# Test set = 20% \n",
    "idx_test = np.random.choice(np.arange(ids.size), \n",
    "                            size = int(len(ids) * 0.2), \n",
    "                            replace = False)\n",
    "partition[\"test\"] = ids[idx_test]\n",
    "ids = np.delete(ids, idx_test)\n",
    "\n",
    "# train/val = 70/30 of rest\n",
    "idx_val = np.random.choice(np.arange(ids.size),\n",
    "                          size = int(len(ids) * 0.3),\n",
    "                          replace=False)\n",
    "partition[\"valid\"] = ids[idx_val]\n",
    "ids = np.delete(ids, idx_val)\n",
    "partition[\"train\"] = ids\n",
    "\n",
    "# convert key: list(str) -> key: list(int)\n",
    "partition = {key: list(map(int, val)) for key, val in partition.items()}"
   ]
  },
  {
   "cell_type": "code",
   "execution_count": null,
   "metadata": {
    "collapsed": true
   },
   "outputs": [],
   "source": [
    "# with open(\"/Users/anders1991/deepbreath/Data/partition.pkl\", 'wb') as f:\n",
    "#     pickle.dump(partition, f, pickle.HIGHEST_PROTOCOL)"
   ]
  },
  {
   "cell_type": "markdown",
   "metadata": {},
   "source": [
    "Create dict of batch paths by volume"
   ]
  },
  {
   "cell_type": "code",
   "execution_count": null,
   "metadata": {
    "ExecuteTime": {
     "end_time": "2018-03-15T11:34:06.545642Z",
     "start_time": "2018-03-15T11:33:46.589115Z"
    },
    "collapsed": true
   },
   "outputs": [],
   "source": [
    "train_vols = dict()\n",
    "for vol in partition[\"train\"]:\n",
    "    volpaths = glob.glob(\"/Users/anders1991/deepbreath/Data/Scans_padded/vol\" + str(vol) + \"_*.npy\")\n",
    "    train_vols[vol] = volpaths\n",
    "    \n",
    "val_vols = dict()\n",
    "for vol in partition[\"valid\"]:\n",
    "    volpaths = glob.glob(\"/Users/anders1991/deepbreath/Data/Scans_padded/vol\" + str(vol) + \"_*.npy\")\n",
    "    val_vols[vol] = volpaths\n",
    "    \n",
    "test_vols = dict()\n",
    "for vol in partition[\"test\"]:\n",
    "    volpaths = glob.glob(\"/Users/anders1991/deepbreath/Data/Scans_padded/vol\" + str(vol) + \"_*.npy\")\n",
    "    test_vols[vol] = volpaths"
   ]
  },
  {
   "cell_type": "markdown",
   "metadata": {},
   "source": [
    "# Step 4: Batch by volume"
   ]
  },
  {
   "cell_type": "markdown",
   "metadata": {},
   "source": [
    "Single data point version"
   ]
  },
  {
   "cell_type": "code",
   "execution_count": 8,
   "metadata": {
    "ExecuteTime": {
     "end_time": "2018-03-18T13:00:26.774573Z",
     "start_time": "2018-03-18T13:00:26.762303Z"
    },
    "collapsed": true
   },
   "outputs": [],
   "source": [
    "def batch(split, vol_dict):\n",
    "    for vol, paths in vol_dict.items():\n",
    "        paths = sorted(paths) # oldest scan first\n",
    "\n",
    "        # create volume batch\n",
    "        img0 = np.expand_dims(np.load(paths[-1]), axis=0)\n",
    "        batch = np.expand_dims(img0, axis=0)\n",
    "        \n",
    "        # output to disk\n",
    "        directory = \"/Users/anders1991/deepbreath/Data/\" + split\n",
    "        if not os.path.exists(directory):\n",
    "            os.makedirs(directory)\n",
    "        np.save(directory + \"/vol_\" + str(vol) + \".npy\", batch)"
   ]
  },
  {
   "cell_type": "code",
   "execution_count": null,
   "metadata": {
    "ExecuteTime": {
     "end_time": "2018-03-15T11:34:22.454785Z",
     "start_time": "2018-03-15T11:34:22.452192Z"
    },
    "collapsed": true
   },
   "outputs": [],
   "source": [
    "# batch(\"single_test\", test_vols)\n",
    "# batch(\"single_valid\", val_vols)\n",
    "# batch(\"single_train\", train_vols)"
   ]
  },
  {
   "cell_type": "markdown",
   "metadata": {},
   "source": [
    "Time distributed version"
   ]
  },
  {
   "cell_type": "code",
   "execution_count": 9,
   "metadata": {
    "ExecuteTime": {
     "end_time": "2018-03-18T13:00:28.999118Z",
     "start_time": "2018-03-18T13:00:28.977322Z"
    },
    "collapsed": true
   },
   "outputs": [],
   "source": [
    "def timebatch(split, vol_dict):\n",
    "    for vol, paths in vol_dict.items():\n",
    "        paths = sorted(paths) # oldest scan first\n",
    "\n",
    "        # create volume batch\n",
    "        img0 = np.expand_dims(np.load(paths[0]), axis=0)\n",
    "        batch = np.expand_dims(img0, axis=0)\n",
    "\n",
    "        for path in paths[1:]:\n",
    "            img = np.expand_dims(np.load(path), axis=0)\n",
    "            img = np.expand_dims(img, axis=0)\n",
    "            batch = np.concatenate((batch, img), axis=0)\n",
    "        \n",
    "        # output to disk\n",
    "        directory = \"/Users/anders1991/deepbreath/Data/\" + split\n",
    "        if not os.path.exists(directory):\n",
    "            os.makedirs(directory)\n",
    "        np.save(directory + \"/vol_\" + str(vol) + \".npy\", batch)"
   ]
  },
  {
   "cell_type": "code",
   "execution_count": null,
   "metadata": {
    "ExecuteTime": {
     "end_time": "2018-03-15T11:24:14.577864Z",
     "start_time": "2018-03-15T11:19:54.536575Z"
    },
    "collapsed": true
   },
   "outputs": [],
   "source": [
    "# timebatch(\"time_test\", test_vols)\n",
    "# timebatch(\"time_valid\", val_vols)\n",
    "# timebatch(\"time_train\", train_vols)"
   ]
  },
  {
   "cell_type": "markdown",
   "metadata": {},
   "source": [
    "----"
   ]
  }
 ],
 "metadata": {
  "kernelspec": {
   "display_name": "Python [conda env:py3]",
   "language": "python",
   "name": "conda-env-py3-py"
  },
  "language_info": {
   "codemirror_mode": {
    "name": "ipython",
    "version": 3
   },
   "file_extension": ".py",
   "mimetype": "text/x-python",
   "name": "python",
   "nbconvert_exporter": "python",
   "pygments_lexer": "ipython3",
   "version": "3.6.2"
  }
 },
 "nbformat": 4,
 "nbformat_minor": 2
}
