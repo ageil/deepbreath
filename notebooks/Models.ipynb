{
 "cells": [
  {
   "cell_type": "code",
   "execution_count": 50,
   "metadata": {
    "ExecuteTime": {
     "end_time": "2018-03-20T08:39:39.391572Z",
     "start_time": "2018-03-20T08:39:25.950541Z"
    },
    "scrolled": false
   },
   "outputs": [],
   "source": [
    "from keras.models import Model\n",
    "from keras.layers import Input, Activation, Add, AveragePooling3D\n",
    "from keras.layers.core import Dense, Dropout, Flatten, Reshape\n",
    "from keras.layers.convolutional import Conv3D, Cropping3D\n",
    "from keras.layers.recurrent import LSTM, GRU\n",
    "from keras.layers.wrappers import TimeDistributed, Bidirectional\n",
    "\n",
    "# visualization\n",
    "from IPython.display import SVG\n",
    "from keras.utils.vis_utils import model_to_dot\n",
    "from keras.utils import plot_model"
   ]
  },
  {
   "cell_type": "markdown",
   "metadata": {},
   "source": [
    "# Time distributed model"
   ]
  },
  {
   "cell_type": "code",
   "execution_count": 55,
   "metadata": {
    "ExecuteTime": {
     "end_time": "2018-03-20T08:41:56.178214Z",
     "start_time": "2018-03-20T08:41:55.726252Z"
    },
    "collapsed": true
   },
   "outputs": [],
   "source": [
    "def tdist_unet(timesteps = 1):\n",
    "    \n",
    "    assert timesteps > 0, \"timesteps must be larger than 0\"\n",
    "    assert timesteps <= 5, \"timesteps cannot exceed 5\"\n",
    "\n",
    "    # block 1\n",
    "    input_1 = Input(shape=(timesteps,1,142,322,262), name=\"input_1\") # timesteps x channels x imgsize\n",
    "    conv_1 = TimeDistributed(Conv3D(filters=6, kernel_size=(1,5,5), data_format=\"channels_first\", name=\"conv_1\"), name=\"TD_conv_1\")(input_1)\n",
    "    relu_2 = TimeDistributed(Activation('relu', name=\"ReLU_2\"), name=\"TD_ReLU_2\")(conv_1)\n",
    "    down_3 = TimeDistributed(Conv3D(filters=8, kernel_size=(1,1,1), strides=(2,2,2), data_format=\"channels_first\", name=\"down_3\"), name=\"TD_down_3\")(relu_2)\n",
    "    \n",
    "    # block 2\n",
    "    relu_4 = TimeDistributed(Activation('relu', name=\"ReLU_4\"), name=\"TD_ReLU_4\")(down_3)\n",
    "    conv_5 = TimeDistributed(Conv3D(filters=8, kernel_size=(1,5,5), data_format=\"channels_first\", name=\"conv_5\"), name=\"TD_conv_5\")(relu_4)\n",
    "    relu_6 = TimeDistributed(Activation(\"relu\", name=\"ReLU_6\"), name=\"TD_ReLU_6\")(conv_5)\n",
    "    conv_7 = TimeDistributed(Conv3D(filters=8, kernel_size=(1,5,5), data_format=\"channels_first\", name=\"conv_7\"), name=\"TD_conv_7\")(relu_6)\n",
    "    \n",
    "    # skip connection 1\n",
    "    crop_9 = TimeDistributed(Cropping3D(cropping=((0,0), (4,4), (4,4)), data_format=\"channels_first\", name=\"crop_9\"), name=\"TD_crop_9\")(down_3)\n",
    "    merge_8 = Add(name=\"merge_8\")([conv_7, crop_9])\n",
    "    \n",
    "    # block 3\n",
    "    relu_10 = TimeDistributed(Activation(\"relu\", name=\"ReLU_10\"), name=\"TD_ReLU_10\")(merge_8)\n",
    "    conv_11 = TimeDistributed(Conv3D(filters=8, kernel_size=(1,5,5), data_format=\"channels_first\", name=\"conv_11\"), name=\"TD_conv_11\")(relu_10)\n",
    "    relu_12 = TimeDistributed(Activation(\"relu\", name=\"ReLU_12\"), name=\"TD_ReLU_12\")(conv_11)\n",
    "    conv_13 = TimeDistributed(Conv3D(filters=8, kernel_size=(1,5,5), data_format=\"channels_first\", name=\"conv_13\"), name=\"TD_conv_13\")(relu_12)\n",
    "    \n",
    "    # skip connection 2\n",
    "    crop_15 = TimeDistributed(Cropping3D(cropping=((0,0), (4,4), (4,4)), data_format=\"channels_first\", name=\"crop_15\"), name=\"TD_crop_15\")(merge_8)\n",
    "    merge_14 = Add(name=\"merge_14\")([conv_13, crop_15])\n",
    "    \n",
    "    # block 4\n",
    "    relu_16 = TimeDistributed(Activation(\"relu\", name=\"ReLU_16\"), name=\"TD_ReLU_16\")(merge_14)\n",
    "    down_17 = TimeDistributed(Conv3D(filters=16, kernel_size=(1,1,1), strides=(1,2,2), data_format=\"channels_first\", name=\"down_17\"), name=\"TD_down_17\")(relu_16)\n",
    "    relu_18 = TimeDistributed(Activation(\"relu\", name=\"ReLU_18\"), name=\"TD_ReLU_18\")(down_17)\n",
    "    conv_19 = TimeDistributed(Conv3D(filters=16, kernel_size=(1,3,3), data_format=\"channels_first\", name=\"conv_19\"), name=\"TD_conv_19\")(relu_18)\n",
    "    relu_20 = TimeDistributed(Activation(\"relu\", name=\"ReLU_20\"), name=\"TD_ReLU_20\")(conv_19)\n",
    "    conv_21 = TimeDistributed(Conv3D(filters=16, kernel_size=(1,1,1), data_format=\"channels_first\", name=\"conv_21\"), name=\"TD_conv_21\")(relu_20)\n",
    "    \n",
    "    # skip connection 3\n",
    "    crop_23 = TimeDistributed(Cropping3D(cropping=((0,0), (1,1), (1,1)), data_format=\"channels_first\", name=\"crop_23\"), name=\"TD_crop_23\")(down_17)\n",
    "    merge_22 = Add(name=\"merge_22\")([conv_21, crop_23])\n",
    "    \n",
    "    # block 5\n",
    "    relu_24 = TimeDistributed(Activation(\"relu\", name=\"ReLU_24\"), name=\"TD_ReLU_24\")(merge_22)\n",
    "    conv_25 = TimeDistributed(Conv3D(filters=16, kernel_size=(1,3,3), data_format=\"channels_first\", name=\"conv_25\"), name=\"TD_conv_25\")(relu_24)\n",
    "    relu_26 = TimeDistributed(Activation(\"relu\", name=\"ReLU_26\"), name=\"TD_ReLU_26\")(conv_25)\n",
    "    conv_27 = TimeDistributed(Conv3D(filters=16, kernel_size=(1,1,1), data_format=\"channels_first\", name=\"conv_27\"), name=\"TD_conv_27\")(relu_26)\n",
    "    \n",
    "    # skip connection 4\n",
    "    crop_29 = TimeDistributed(Cropping3D(cropping=((0,0), (1,1), (1,1)), data_format=\"channels_first\", name=\"crop_29\"), name=\"TD_crop_29\")(merge_22)\n",
    "    merge_28 = Add(name=\"merge_28\")([conv_27, crop_29])\n",
    "    \n",
    "    # block 6\n",
    "    relu_30 = TimeDistributed(Activation(\"relu\", name=\"ReLU_30\"), name=\"TD_ReLU_30\")(merge_28)\n",
    "    down_31 = TimeDistributed(Conv3D(filters=32, kernel_size=(1,1,1), strides=(1,2,2), data_format=\"channels_first\", name=\"down_31\"), name=\"TD_down_31\")(relu_30)\n",
    "    relu_32 = TimeDistributed(Activation(\"relu\", name=\"ReLU_32\"), name=\"TD_ReLU_32\")(down_31)\n",
    "    conv_33 = TimeDistributed(Conv3D(filters=32, kernel_size=(1,1,1), data_format=\"channels_first\", name=\"conv_33\"), name=\"TD_conv_33\")(relu_32)\n",
    "    relu_34 = TimeDistributed(Activation(\"relu\", name=\"ReLU_34\"), name=\"TD_ReLU_34\")(conv_33)\n",
    "    conv_35 = TimeDistributed(Conv3D(filters=32, kernel_size=(1,1,1), data_format=\"channels_first\", name=\"conv_35\"), name=\"TD_conv_35\")(relu_34)\n",
    "    \n",
    "    # skip connection 5\n",
    "    merge_36 = Add(name=\"merge_36\")([conv_35, down_31])\n",
    "    \n",
    "    # block 7\n",
    "    relu_37 = TimeDistributed(Activation(\"relu\", name=\"ReLU_37\"), name=\"TD_ReLU_37\")(merge_36)\n",
    "    conv_38 = TimeDistributed(Conv3D(filters=32, kernel_size=(1,1,1), data_format=\"channels_first\", name=\"conv_38\"), name=\"TD_conv_38\")(relu_37)\n",
    "    relu_39 = TimeDistributed(Activation(\"relu\", name=\"ReLU_39\"), name=\"TD_ReLU_39\")(conv_38)\n",
    "    conv_40 = TimeDistributed(Conv3D(filters=32, kernel_size=(1,1,1), data_format=\"channels_first\", name=\"conv_40\"), name=\"TD_conv_40\")(relu_39)\n",
    "    \n",
    "    # skip connection 6\n",
    "    merge_41 = Add(name=\"merge_41\")([conv_40, merge_36])\n",
    "    \n",
    "    # block 8\n",
    "    relu_42 = TimeDistributed(Activation(\"relu\", name=\"ReLU_42\"), name=\"TD_ReLU_42\")(merge_41)\n",
    "    down_43 = TimeDistributed(AveragePooling3D(pool_size=(54,29,22), data_format=\"channels_first\", name=\"down_43\"), name=\"TD_down_43\")(relu_42)\n",
    "    \n",
    "    if timesteps > 1:\n",
    "        flatten_44 = TimeDistributed(Flatten(name=\"flatten_44\"), name=\"TD_flatten_44\")(down_43)\n",
    "        lstm_45 = Bidirectional(LSTM(32, return_sequences=True, name=\"lstm_45\"), name=\"bidir_lstm_45\")(flatten_44)\n",
    "        lstm_46 = Bidirectional(LSTM(64, return_sequences=True, name=\"lstm_46\"), name=\"bidir_lstm_46\")(lstm_45)\n",
    "        lstm_47 = LSTM(1, activation=\"softmax\", return_sequences=False, name=\"lstm_47\")(lstm_46)\n",
    "        output_48 = Reshape(target_shape=(1,1,1,1,1), name=\"output_48\")(lstm_47)\n",
    "        model = Model(inputs=input_1, outputs=output_48)\n",
    "    else:\n",
    "        output_44 = TimeDistributed(Conv3D(filters=1, kernel_size=(1,1,1), data_format=\"channels_first\", name=\"conv_44\"), name=\"TD_conv_44\")(down_43)\n",
    "        model = Model(inputs=input_1, outputs=output_44)\n",
    "    \n",
    "    return model"
   ]
  },
  {
   "cell_type": "code",
   "execution_count": 56,
   "metadata": {
    "ExecuteTime": {
     "end_time": "2018-03-20T08:41:59.075913Z",
     "start_time": "2018-03-20T08:41:58.193423Z"
    },
    "scrolled": false
   },
   "outputs": [
    {
     "name": "stdout",
     "output_type": "stream",
     "text": [
      "(?, ?, 128)\n"
     ]
    }
   ],
   "source": [
    "model = tdist_unet(timesteps=5)\n",
    "\n",
    "# to file\n",
    "# plot_model(model, to_file='model_timedist.png', show_shapes=True)\n",
    "\n",
    "# to notebook\n",
    "# SVG(model_to_dot(model, show_shapes=True).create(prog='dot', format='svg'))\n",
    "\n",
    "# print(model.summary(line_length=120))"
   ]
  },
  {
   "cell_type": "markdown",
   "metadata": {},
   "source": [
    "----"
   ]
  }
 ],
 "metadata": {
  "kernelspec": {
   "display_name": "Python [conda env:py3]",
   "language": "python",
   "name": "conda-env-py3-py"
  },
  "language_info": {
   "codemirror_mode": {
    "name": "ipython",
    "version": 3
   },
   "file_extension": ".py",
   "mimetype": "text/x-python",
   "name": "python",
   "nbconvert_exporter": "python",
   "pygments_lexer": "ipython3",
   "version": "3.6.2"
  }
 },
 "nbformat": 4,
 "nbformat_minor": 0
}
