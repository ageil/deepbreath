{
 "cells": [
  {
   "cell_type": "code",
   "execution_count": 1,
   "metadata": {
    "collapsed": false
   },
   "outputs": [
    {
     "name": "stderr",
     "output_type": "stream",
     "text": [
      "/Users/anders1991/miniconda3/envs/py3/lib/python3.6/site-packages/h5py/__init__.py:36: FutureWarning: Conversion of the second argument of issubdtype from `float` to `np.floating` is deprecated. In future, it will be treated as `np.float64 == np.dtype(float).type`.\n  from ._conv import register_converters as _register_converters\n"
     ]
    }
   ],
   "source": [
    "# Basics\n",
    "import numpy as np\n",
    "import pandas as pd\n",
    "import pickle\n",
    "import h5py"
   ]
  },
  {
   "cell_type": "code",
   "execution_count": 2,
   "metadata": {},
   "outputs": [],
   "source": [
    "name = \"cnn_reg9\"\n",
    "classification = False\n",
    "timesteps = 1\n",
    "batch_size = 3\n",
    "# batch_size = 3\n",
    "nsamples = 50\n",
    "# nsamples = 3"
   ]
  },
  {
   "cell_type": "code",
   "execution_count": 3,
   "metadata": {},
   "outputs": [],
   "source": [
    "with open(\"./data/partition.pkl\", 'rb') as f:\n",
    "    partition = pickle.load(f)\n",
    "    \n",
    "partition[\"train\"] = partition[\"train\"]\n",
    "partition[\"valid\"] = partition[\"valid\"]"
   ]
  },
  {
   "cell_type": "code",
   "execution_count": 7,
   "metadata": {},
   "outputs": [
    {
     "data": {
      "text/plain": [
       "1389"
      ]
     },
     "execution_count": 7,
     "metadata": {},
     "output_type": "execute_result"
    }
   ],
   "source": [
    "len(partition[\"train\"]) + len(partition[\"valid\"]) + len(partition[\"test\"])"
   ]
  },
  {
   "cell_type": "markdown",
   "metadata": {},
   "source": [
    "# Load labels"
   ]
  },
  {
   "cell_type": "code",
   "execution_count": 91,
   "metadata": {},
   "outputs": [],
   "source": [
    "target = pd.read_csv(\"./data/ERU_Scores_Ids_5-Scans_Validity-0_VisuallyScored.csv\")\n",
    "labels = target.set_index(\"StId\").to_dict()[\"ERU.M2\"]"
   ]
  },
  {
   "cell_type": "code",
   "execution_count": 87,
   "metadata": {},
   "outputs": [],
   "source": [
    "if classification:\n",
    "    # combine 0+1 as 0 = no emph in scan, 1 = no emph in region\n",
    "    label_converter = {0: 0, 1: 0, 2: 1, 3: 2, 4: 3, 5: 4, 6: 5}\n",
    "else:\n",
    "    # Rescale to [0;1]; merge category 0+1\n",
    "    # label_converter = {0: 0.0, 1: 0.0, 2: 0.03, 3: 0.155, 4: 0.38, 5: 0.63, 6: 0.88}\n",
    "    label_converter = {0: 0, 1: 0, 2: 2, 3: 3, 4: 4, 5: 5, 6: 6}\n",
    "labels = {key: label_converter[val] for key, val in labels.items()}"
   ]
  },
  {
   "cell_type": "markdown",
   "metadata": {},
   "source": [
    "# Load data"
   ]
  },
  {
   "cell_type": "code",
   "execution_count": 51,
   "metadata": {},
   "outputs": [
    {
     "name": "stderr",
     "output_type": "stream",
     "text": [
      "Using TensorFlow backend.\n"
     ]
    }
   ],
   "source": [
    "from scripts.data_gen import DataGenerator"
   ]
  },
  {
   "cell_type": "code",
   "execution_count": 53,
   "metadata": {},
   "outputs": [],
   "source": [
    "gen = DataGenerator(labels, partition, mode=\"valid\", oversample=False, \n",
    "                    classes=1, batch_size=batch_size, timesteps=timesteps, cropped=True)"
   ]
  },
  {
   "cell_type": "markdown",
   "metadata": {},
   "source": [
    "# Load model"
   ]
  },
  {
   "cell_type": "code",
   "execution_count": 8,
   "metadata": {},
   "outputs": [],
   "source": [
    "from keras.models import load_model\n",
    "from glob import glob"
   ]
  },
  {
   "cell_type": "code",
   "execution_count": 9,
   "metadata": {},
   "outputs": [
    {
     "name": "stdout",
     "output_type": "stream",
     "text": [
      "./output/rnn_reg3/weights/epoch_001-valloss_0.82-valacc_0.19.hdf5\n"
     ]
    }
   ],
   "source": [
    "path = sorted(glob(\"./output/\"+name+\"/weights/*.hdf5\"))[-1]\n",
    "print(path)\n",
    "\n",
    "model = load_model(path)"
   ]
  },
  {
   "cell_type": "code",
   "execution_count": 10,
   "metadata": {},
   "outputs": [
    {
     "name": "stdout",
     "output_type": "stream",
     "text": [
      "________________________________________________________________________________________________________________________\nLayer (type)                           Output Shape               Param #       Connected to                            \n========================================================================================================================\ninput_1 (InputLayer)                   (None, 5, 1, 50, 146, 118) 0                                                     \n________________________________________________________________________________________________________________________\nTD_mpool3D (TimeDistributed)           (None, 5, 1, 50, 146, 118) 0             input_1[0][0]                           \n________________________________________________________________________________________________________________________\nTD_conv_1 (TimeDistributed)            (None, 5, 6, 50, 142, 114) 156           TD_mpool3D[0][0]                        \n________________________________________________________________________________________________________________________\nTD_ReLU_2 (TimeDistributed)            (None, 5, 6, 50, 142, 114) 0             TD_conv_1[0][0]                         \n________________________________________________________________________________________________________________________\nTD_down_3 (TimeDistributed)            (None, 5, 8, 25, 71, 57)   56            TD_ReLU_2[0][0]                         \n________________________________________________________________________________________________________________________\nTD_ReLU_4 (TimeDistributed)            (None, 5, 8, 25, 71, 57)   0             TD_down_3[0][0]                         \n________________________________________________________________________________________________________________________\nTD_conv_5 (TimeDistributed)            (None, 5, 8, 25, 67, 53)   1608          TD_ReLU_4[0][0]                         \n________________________________________________________________________________________________________________________\nTD_ReLU_6 (TimeDistributed)            (None, 5, 8, 25, 67, 53)   0             TD_conv_5[0][0]                         \n________________________________________________________________________________________________________________________\nTD_conv_7 (TimeDistributed)            (None, 5, 8, 25, 63, 49)   1608          TD_ReLU_6[0][0]                         \n________________________________________________________________________________________________________________________\nTD_crop_9 (TimeDistributed)            (None, 5, 8, 25, 63, 49)   0             TD_down_3[0][0]                         \n________________________________________________________________________________________________________________________\nmerge_8 (Add)                          (None, 5, 8, 25, 63, 49)   0             TD_conv_7[0][0]                         \n                                                                                TD_crop_9[0][0]                         \n________________________________________________________________________________________________________________________\nTD_ReLU_10 (TimeDistributed)           (None, 5, 8, 25, 63, 49)   0             merge_8[0][0]                           \n________________________________________________________________________________________________________________________\nTD_conv_11 (TimeDistributed)           (None, 5, 8, 25, 59, 45)   1608          TD_ReLU_10[0][0]                        \n________________________________________________________________________________________________________________________\nTD_ReLU_12 (TimeDistributed)           (None, 5, 8, 25, 59, 45)   0             TD_conv_11[0][0]                        \n________________________________________________________________________________________________________________________\nTD_conv_13 (TimeDistributed)           (None, 5, 8, 25, 55, 41)   1608          TD_ReLU_12[0][0]                        \n________________________________________________________________________________________________________________________\nTD_crop_15 (TimeDistributed)           (None, 5, 8, 25, 55, 41)   0             merge_8[0][0]                           \n________________________________________________________________________________________________________________________\nmerge_14 (Add)                         (None, 5, 8, 25, 55, 41)   0             TD_conv_13[0][0]                        \n                                                                                TD_crop_15[0][0]                        \n________________________________________________________________________________________________________________________\nTD_ReLU_16 (TimeDistributed)           (None, 5, 8, 25, 55, 41)   0             merge_14[0][0]                          \n________________________________________________________________________________________________________________________\nTD_down_17 (TimeDistributed)           (None, 5, 16, 25, 28, 21)  144           TD_ReLU_16[0][0]                        \n________________________________________________________________________________________________________________________\nTD_ReLU_18 (TimeDistributed)           (None, 5, 16, 25, 28, 21)  0             TD_down_17[0][0]                        \n________________________________________________________________________________________________________________________\nTD_conv_19 (TimeDistributed)           (None, 5, 16, 25, 26, 19)  2320          TD_ReLU_18[0][0]                        \n________________________________________________________________________________________________________________________\nTD_ReLU_20 (TimeDistributed)           (None, 5, 16, 25, 26, 19)  0             TD_conv_19[0][0]                        \n________________________________________________________________________________________________________________________\nTD_conv_21 (TimeDistributed)           (None, 5, 16, 25, 26, 19)  272           TD_ReLU_20[0][0]                        \n________________________________________________________________________________________________________________________\nTD_crop_23 (TimeDistributed)           (None, 5, 16, 25, 26, 19)  0             TD_down_17[0][0]                        \n________________________________________________________________________________________________________________________\nmerge_22 (Add)                         (None, 5, 16, 25, 26, 19)  0             TD_conv_21[0][0]                        \n                                                                                TD_crop_23[0][0]                        \n________________________________________________________________________________________________________________________\nTD_ReLU_24 (TimeDistributed)           (None, 5, 16, 25, 26, 19)  0             merge_22[0][0]                          \n________________________________________________________________________________________________________________________\nTD_conv_25 (TimeDistributed)           (None, 5, 16, 25, 24, 17)  2320          TD_ReLU_24[0][0]                        \n________________________________________________________________________________________________________________________\nTD_ReLU_26 (TimeDistributed)           (None, 5, 16, 25, 24, 17)  0             TD_conv_25[0][0]                        \n________________________________________________________________________________________________________________________\nTD_conv_27 (TimeDistributed)           (None, 5, 16, 25, 24, 17)  272           TD_ReLU_26[0][0]                        \n________________________________________________________________________________________________________________________\nTD_crop_29 (TimeDistributed)           (None, 5, 16, 25, 24, 17)  0             merge_22[0][0]                          \n________________________________________________________________________________________________________________________\nmerge_28 (Add)                         (None, 5, 16, 25, 24, 17)  0             TD_conv_27[0][0]                        \n                                                                                TD_crop_29[0][0]                        \n________________________________________________________________________________________________________________________\nTD_ReLU_30 (TimeDistributed)           (None, 5, 16, 25, 24, 17)  0             merge_28[0][0]                          \n________________________________________________________________________________________________________________________\nTD_down_31 (TimeDistributed)           (None, 5, 32, 25, 12, 9)   544           TD_ReLU_30[0][0]                        \n________________________________________________________________________________________________________________________\nTD_ReLU_32 (TimeDistributed)           (None, 5, 32, 25, 12, 9)   0             TD_down_31[0][0]                        \n________________________________________________________________________________________________________________________\nTD_conv_33 (TimeDistributed)           (None, 5, 32, 25, 12, 9)   1056          TD_ReLU_32[0][0]                        \n________________________________________________________________________________________________________________________\nTD_ReLU_34 (TimeDistributed)           (None, 5, 32, 25, 12, 9)   0             TD_conv_33[0][0]                        \n________________________________________________________________________________________________________________________\nTD_conv_35 (TimeDistributed)           (None, 5, 32, 25, 12, 9)   1056          TD_ReLU_34[0][0]                        \n________________________________________________________________________________________________________________________\nmerge_36 (Add)                         (None, 5, 32, 25, 12, 9)   0             TD_conv_35[0][0]                        \n                                                                                TD_down_31[0][0]                        \n________________________________________________________________________________________________________________________\nTD_ReLU_37 (TimeDistributed)           (None, 5, 32, 25, 12, 9)   0             merge_36[0][0]                          \n________________________________________________________________________________________________________________________\nTD_conv_38 (TimeDistributed)           (None, 5, 32, 25, 12, 9)   1056          TD_ReLU_37[0][0]                        \n________________________________________________________________________________________________________________________\nTD_ReLU_39 (TimeDistributed)           (None, 5, 32, 25, 12, 9)   0             TD_conv_38[0][0]                        \n________________________________________________________________________________________________________________________\nTD_conv_40 (TimeDistributed)           (None, 5, 32, 25, 12, 9)   1056          TD_ReLU_39[0][0]                        \n________________________________________________________________________________________________________________________\nmerge_41 (Add)                         (None, 5, 32, 25, 12, 9)   0             TD_conv_40[0][0]                        \n                                                                                merge_36[0][0]                          \n________________________________________________________________________________________________________________________\nTD_ReLU_42 (TimeDistributed)           (None, 5, 32, 25, 12, 9)   0             merge_41[0][0]                          \n________________________________________________________________________________________________________________________\nTD_down_43 (TimeDistributed)           (None, 5, 32, 1, 1, 1)     0             TD_ReLU_42[0][0]                        \n________________________________________________________________________________________________________________________\nTD_flatten_44 (TimeDistributed)        (None, 5, 32)              0             TD_down_43[0][0]                        \n________________________________________________________________________________________________________________________\nbidir_lstm_45 (Bidirectional)          (None, 5, 128)             49664         TD_flatten_44[0][0]                     \n________________________________________________________________________________________________________________________\ndrop_46 (Dropout)                      (None, 5, 128)             0             bidir_lstm_45[0][0]                     \n________________________________________________________________________________________________________________________\nbidir_lstm_47 (Bidirectional)          (None, 5, 64)              41216         drop_46[0][0]                           \n________________________________________________________________________________________________________________________\ndrop_48 (Dropout)                      (None, 5, 64)              0             bidir_lstm_47[0][0]                     \n________________________________________________________________________________________________________________________\nlstm_49 (LSTM)                         (None, 1)                  264           drop_48[0][0]                           \n========================================================================================================================\nTotal params: 107,884\nTrainable params: 107,884\nNon-trainable params: 0\n________________________________________________________________________________________________________________________\nNone\n"
     ]
    }
   ],
   "source": [
    "print(model.summary(line_length=120))"
   ]
  },
  {
   "cell_type": "code",
   "execution_count": 14,
   "metadata": {},
   "outputs": [],
   "source": [
    "model0 = load_model(\"./output/cnn_reg6/weights/epoch_038-valloss_0.68-valacc_0.38.hdf5\")"
   ]
  },
  {
   "cell_type": "markdown",
   "metadata": {},
   "source": [
    "# Predict"
   ]
  },
  {
   "cell_type": "code",
   "execution_count": 11,
   "metadata": {},
   "outputs": [
    {
     "name": "stdout",
     "output_type": "stream",
     "text": [
      "/Users/anders1991/deepbreath/scripts\n"
     ]
    }
   ],
   "source": [
    "cd scripts"
   ]
  },
  {
   "cell_type": "code",
   "execution_count": 12,
   "metadata": {
    "collapsed": false
   },
   "outputs": [],
   "source": [
    "# X, y = predGen.__next__()\n",
    "X, y = gen.__getitem__(0) # select batch index\n",
    "y_ = model.predict_on_batch(X)"
   ]
  },
  {
   "cell_type": "code",
   "execution_count": 13,
   "metadata": {},
   "outputs": [
    {
     "data": {
      "text/plain": [
       "array([[0.8944244 ],\n       [0.89624983],\n       [0.89250004]], dtype=float32)"
      ]
     },
     "execution_count": 13,
     "metadata": {},
     "output_type": "execute_result"
    }
   ],
   "source": [
    "y_"
   ]
  },
  {
   "cell_type": "code",
   "execution_count": 31,
   "metadata": {},
   "outputs": [
    {
     "data": {
      "text/plain": [
       "array([[0.8965243 ],\n       [0.89590216],\n       [0.89304775]], dtype=float32)"
      ]
     },
     "execution_count": 31,
     "metadata": {},
     "output_type": "execute_result"
    }
   ],
   "source": [
    "y_"
   ]
  },
  {
   "cell_type": "code",
   "execution_count": null,
   "metadata": {},
   "outputs": [],
   "source": [
    "# X, y = predGen.__next__()\n",
    "# X0, y0 = gen.__getitem__(0) # select batch index\n",
    "y0_ = model0.predict_on_batch(X)"
   ]
  },
  {
   "cell_type": "code",
   "execution_count": null,
   "metadata": {},
   "outputs": [
    {
     "name": "stdout",
     "output_type": "stream",
     "text": [
      "[[ 0.  1.]\n [ 0. -0.]\n [ 0.  0.]\n [ 0.  1.]\n [ 0.  0.]\n [ 0.  0.]\n [ 0.  1.]\n [ 0.  0.]\n [ 0.  1.]\n [ 0.  0.]\n [ 3.  1.]\n [ 0.  1.]\n [ 0.  0.]\n [ 3.  1.]\n [ 0.  0.]\n [ 2.  1.]\n [ 0.  1.]\n [ 2.  0.]\n [ 2.  1.]\n [ 0.  0.]\n [ 2.  1.]\n [ 2.  0.]\n [ 0.  0.]\n [ 2.  1.]\n [ 0.  0.]\n [ 2.  1.]\n [ 0.  0.]\n [ 0.  1.]\n [ 0.  1.]\n [ 0. -0.]\n [ 0.  0.]\n [ 3.  1.]\n [ 0.  0.]\n [ 0.  0.]\n [ 4.  1.]\n [ 0.  1.]\n [ 2.  0.]\n [ 0.  1.]\n [ 2.  0.]\n [ 0.  1.]\n [ 0.  1.]\n [ 0.  1.]\n [ 0.  0.]\n [ 0.  0.]\n [ 2.  1.]\n [ 0.  0.]\n [ 0.  1.]\n [ 0.  0.]\n [ 4.  1.]\n [ 2.  1.]]\n"
     ]
    }
   ],
   "source": [
    "if classification:\n",
    "    actual = np.argmax(y, axis=1)\n",
    "    # actual = np.squeeze(y).astype(int)\n",
    "    predicted = np.argmax(y_, axis=1)\n",
    "    \n",
    "    comp = np.column_stack((actual, predicted))\n",
    "else:\n",
    "    comp0 = np.empty((batch_size,2))\n",
    "    comp0[:,0] = np.reshape(y, (batch_size))\n",
    "    comp0[:,1] = np.reshape(np.round(y0_), (batch_size))\n",
    "    \n",
    "    comp = np.empty((batch_size,2))\n",
    "    comp[:,0] = np.reshape(y, (batch_size))\n",
    "    comp[:,1] = np.reshape(np.round(y_), (batch_size))\n",
    "\n",
    "# left: actual, right: predicted\n",
    "print(comp0)\n",
    "print()\n",
    "print(comp)"
   ]
  },
  {
   "cell_type": "code",
   "execution_count": 14,
   "metadata": {},
   "outputs": [
    {
     "name": "stdout",
     "output_type": "stream",
     "text": [
      "[[ 0.  1.]\n [ 0. -0.]\n [ 0.  0.]\n [ 0.  1.]\n [ 0.  0.]\n [ 0.  0.]\n [ 0.  1.]\n [ 0.  0.]\n [ 0.  1.]\n [ 0.  0.]\n [ 3.  1.]\n [ 0.  1.]\n [ 0.  0.]\n [ 3.  1.]\n [ 0.  0.]\n [ 2.  1.]\n [ 0.  1.]\n [ 2.  0.]\n [ 2.  1.]\n [ 0.  0.]\n [ 2.  1.]\n [ 2.  0.]\n [ 0.  0.]\n [ 2.  1.]\n [ 0.  0.]\n [ 2.  1.]\n [ 0.  0.]\n [ 0.  1.]\n [ 0.  1.]\n [ 0. -0.]\n [ 0.  0.]\n [ 3.  1.]\n [ 0.  0.]\n [ 0.  0.]\n [ 4.  1.]\n [ 0.  1.]\n [ 2.  0.]\n [ 0.  1.]\n [ 2.  0.]\n [ 0.  1.]\n [ 0.  1.]\n [ 0.  1.]\n [ 0.  0.]\n [ 0.  0.]\n [ 2.  1.]\n [ 0.  0.]\n [ 0.  1.]\n [ 0.  0.]\n [ 4.  1.]\n [ 2.  1.]]\n"
     ]
    }
   ],
   "source": [
    "if classification:\n",
    "    actual = np.argmax(y, axis=1)\n",
    "    # actual = np.squeeze(y).astype(int)\n",
    "    predicted = np.argmax(y_, axis=1)\n",
    "    \n",
    "    comp = np.column_stack((actual, predicted))\n",
    "else:\n",
    "    comp = np.empty((batch_size,2))\n",
    "    comp[:,0] = np.reshape(y, (batch_size))\n",
    "    comp[:,1] = np.reshape(np.round(y_), (batch_size))\n",
    "\n",
    "# left: actual, right: predicted\n",
    "print(comp)"
   ]
  },
  {
   "cell_type": "code",
   "execution_count": null,
   "metadata": {},
   "outputs": [],
   "source": []
  }
 ],
 "metadata": {
  "kernelspec": {
   "display_name": "Python 2",
   "language": "python",
   "name": "python2"
  },
  "language_info": {
   "codemirror_mode": {
    "name": "ipython",
    "version": 2
   },
   "file_extension": ".py",
   "mimetype": "text/x-python",
   "name": "python",
   "nbconvert_exporter": "python",
   "pygments_lexer": "ipython2",
   "version": "2.7.6"
  }
 },
 "nbformat": 4,
 "nbformat_minor": 0
}
