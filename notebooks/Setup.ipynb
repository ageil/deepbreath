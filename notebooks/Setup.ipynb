{
 "cells": [
  {
   "cell_type": "code",
   "execution_count": 1,
   "metadata": {
    "ExecuteTime": {
     "end_time": "2018-03-20T18:35:22.762606Z",
     "start_time": "2018-03-20T18:35:06.864437Z"
    }
   },
   "outputs": [
    {
     "name": "stderr",
     "output_type": "stream",
     "text": [
      "/Users/anders1991/miniconda3/envs/py3/lib/python3.6/site-packages/h5py/__init__.py:36: FutureWarning: Conversion of the second argument of issubdtype from `float` to `np.floating` is deprecated. In future, it will be treated as `np.float64 == np.dtype(float).type`.\n  from ._conv import register_converters as _register_converters\nUsing TensorFlow backend.\n"
     ]
    }
   ],
   "source": [
    "# Basics\n",
    "import numpy as np\n",
    "import pandas as pd\n",
    "import os\n",
    "import pickle\n",
    "import h5py\n",
    "\n",
    "# Keras\n",
    "from keras.optimizers import Adam\n",
    "from keras.callbacks import ModelCheckpoint, TensorBoard"
   ]
  },
  {
   "cell_type": "markdown",
   "metadata": {},
   "source": [
    "# Load data partitions"
   ]
  },
  {
   "cell_type": "code",
   "execution_count": 2,
   "metadata": {
    "ExecuteTime": {
     "end_time": "2018-03-20T18:35:22.768262Z",
     "start_time": "2018-03-20T18:35:22.764588Z"
    },
    "collapsed": true
   },
   "outputs": [],
   "source": [
    "with open(\"./data/partition.pkl\", 'rb') as f:\n",
    "    partition = pickle.load(f)"
   ]
  },
  {
   "cell_type": "markdown",
   "metadata": {},
   "source": [
    "# Load labels"
   ]
  },
  {
   "cell_type": "code",
   "execution_count": 3,
   "metadata": {
    "ExecuteTime": {
     "end_time": "2018-03-20T18:35:22.837869Z",
     "start_time": "2018-03-20T18:35:22.827494Z"
    },
    "collapsed": true
   },
   "outputs": [],
   "source": [
    "target = pd.read_csv(\"./data/ERU_Scores_Ids_5-Scans_Validity-0_VisuallyScored.csv\")\n",
    "labels = target.set_index(\"StId\").to_dict()[\"ERU.M2\"]"
   ]
  },
  {
   "cell_type": "markdown",
   "metadata": {},
   "source": [
    "Rescale labels to fit model softmax output"
   ]
  },
  {
   "cell_type": "code",
   "execution_count": 4,
   "metadata": {},
   "outputs": [],
   "source": [
    "label_converter = {0: 0.0, 1: 0.0, 2: 0.03, 3: 0.155, 4: 0.38, 5: 0.63, 6: 0.88} # combine 0+1 as 0 = no emph in scan, 1 = no emph in region\n",
    "labels = {key: label_converter[val] for key, val in labels.items()}"
   ]
  },
  {
   "cell_type": "markdown",
   "metadata": {},
   "source": [
    "# Calculate class weights\n",
    "\n",
    "To handle imbalanced classes during training."
   ]
  },
  {
   "cell_type": "code",
   "execution_count": 5,
   "metadata": {
    "ExecuteTime": {
     "end_time": "2018-03-20T18:35:22.874927Z",
     "start_time": "2018-03-20T18:35:22.840072Z"
    },
    "collapsed": true
   },
   "outputs": [],
   "source": [
    "from sklearn.utils import class_weight"
   ]
  },
  {
   "cell_type": "code",
   "execution_count": 6,
   "metadata": {
    "ExecuteTime": {
     "end_time": "2018-03-20T18:35:22.980613Z",
     "start_time": "2018-03-20T18:35:22.876617Z"
    }
   },
   "outputs": [],
   "source": [
    "# weights only based on training data\n",
    "train_labels = [label for key, label in labels.items() if key in partition[\"train\"]]"
   ]
  },
  {
   "cell_type": "code",
   "execution_count": 7,
   "metadata": {},
   "outputs": [],
   "source": [
    "class_weights = class_weight.compute_class_weight(class_weight='balanced',\n",
    "                                                  classes=np.unique(train_labels), \n",
    "                                                  y=train_labels)"
   ]
  },
  {
   "cell_type": "markdown",
   "metadata": {},
   "source": [
    "# Set hyperparameters"
   ]
  },
  {
   "cell_type": "code",
   "execution_count": 8,
   "metadata": {
    "ExecuteTime": {
     "end_time": "2018-03-20T18:35:23.153448Z",
     "start_time": "2018-03-20T18:35:23.148784Z"
    },
    "collapsed": true
   },
   "outputs": [],
   "source": [
    "timesteps = 1\n",
    "batch_size = 4\n",
    "learn_rate = 1e-4\n",
    "max_epochs = 50\n",
    "name = \"single\"\n",
    "downsample = 2"
   ]
  },
  {
   "cell_type": "markdown",
   "metadata": {},
   "source": [
    "# Import data generator"
   ]
  },
  {
   "cell_type": "code",
   "execution_count": 9,
   "metadata": {
    "ExecuteTime": {
     "end_time": "2018-03-20T18:35:23.160023Z",
     "start_time": "2018-03-20T18:35:23.156098Z"
    },
    "collapsed": true
   },
   "outputs": [],
   "source": [
    "from data_gen import DataGenerator"
   ]
  },
  {
   "cell_type": "code",
   "execution_count": 10,
   "metadata": {
    "ExecuteTime": {
     "end_time": "2018-03-20T18:35:23.170962Z",
     "start_time": "2018-03-20T18:35:23.162274Z"
    },
    "collapsed": true
   },
   "outputs": [],
   "source": [
    "trainGen = DataGenerator(\"single_train\", batch_size=batch_size, timesteps=timesteps, \n",
    "                         channels=1, dim_x=142, dim_y=322, dim_z=262, shuffle=True)\n",
    "validGen = DataGenerator(\"single_valid\", batch_size=batch_size, timesteps=timesteps, \n",
    "                         channels=1, dim_x=142, dim_y=322, dim_z=262, shuffle=False)\n",
    "\n",
    "trainGen = trainGen.generate(labels, partition[\"train\"])\n",
    "validGen = validGen.generate(labels, partition[\"valid\"])"
   ]
  },
  {
   "cell_type": "markdown",
   "metadata": {},
   "source": [
    "# Import model"
   ]
  },
  {
   "cell_type": "code",
   "execution_count": 13,
   "metadata": {
    "ExecuteTime": {
     "end_time": "2018-03-20T18:35:23.177169Z",
     "start_time": "2018-03-20T18:35:23.173388Z"
    },
    "collapsed": true
   },
   "outputs": [],
   "source": [
    "from unet import tdist_unet"
   ]
  },
  {
   "cell_type": "code",
   "execution_count": 14,
   "metadata": {
    "ExecuteTime": {
     "end_time": "2018-03-20T18:35:24.113058Z",
     "start_time": "2018-03-20T18:35:23.179347Z"
    },
    "collapsed": true
   },
   "outputs": [],
   "source": [
    "model = tdist_unet(timesteps=timesteps, downsample=downsample)"
   ]
  },
  {
   "cell_type": "code",
   "execution_count": 15,
   "metadata": {
    "ExecuteTime": {
     "end_time": "2018-03-20T18:35:24.180864Z",
     "start_time": "2018-03-20T18:35:24.115025Z"
    },
    "collapsed": false
   },
   "outputs": [],
   "source": [
    "model.compile(optimizer=Adam(lr = learn_rate), \n",
    "              loss='mean_absolute_error', \n",
    "              metrics=['accuracy', 'mae', 'mse'])"
   ]
  },
  {
   "cell_type": "markdown",
   "metadata": {},
   "source": [
    "# Setup training session"
   ]
  },
  {
   "cell_type": "code",
   "execution_count": 24,
   "metadata": {},
   "outputs": [],
   "source": [
    "callbacks_list = []"
   ]
  },
  {
   "cell_type": "markdown",
   "metadata": {},
   "source": [
    "Save model weights each epoch if best val acc so far"
   ]
  },
  {
   "cell_type": "code",
   "execution_count": 17,
   "metadata": {},
   "outputs": [],
   "source": [
    "directory = \"../models/single/\"\n",
    "if not os.path.exists(directory):\n",
    "    os.makedirs(directory)\n",
    "modeldir = directory + \"epoch_{epoch:02d}-valacc_{val_acc:.2f}.hdf5\"\n",
    "\n",
    "checkpoint = ModelCheckpoint(modeldir, monitor='val_acc', save_weights_only=False, save_best_only=True, mode='max', verbose=1)\n",
    "callbacks_list.append(checkpoint)\n",
    "\n",
    "# Load model weights using:\n",
    "# model.load_weights(modeldir)"
   ]
  },
  {
   "cell_type": "markdown",
   "metadata": {},
   "source": [
    "Add TensorBoard callback"
   ]
  },
  {
   "cell_type": "code",
   "execution_count": 18,
   "metadata": {},
   "outputs": [],
   "source": [
    "tensorboard = TensorBoard(log_dir='../graph', histogram_freq=1, write_graph=True, write_images=True)\n",
    "callbacks_list.append(tensorboard)\n",
    "\n",
    "# Access tensorboard using:\n",
    "# tensorboard --logdir path_to_current_dir/graph "
   ]
  },
  {
   "cell_type": "code",
   "execution_count": 21,
   "metadata": {},
   "outputs": [],
   "source": [
    "from TBCallbacks import TrainValTensorBoard\n",
    "\n",
    "trainvalTB = TrainValTensorBoard(log_dir=\"./logs\", histogram_freq=1, write_graph=True, write_images=True) # custom TB writer object\n",
    "callbacks_list.append(trainvalTB) # add tensorboard logging\n"
   ]
  },
  {
   "cell_type": "markdown",
   "metadata": {},
   "source": [
    "Train model"
   ]
  },
  {
   "cell_type": "code",
   "execution_count": 18,
   "metadata": {
    "ExecuteTime": {
     "start_time": "2018-03-20T18:35:06.891Z"
    },
    "scrolled": false,
    "collapsed": false
   },
   "outputs": [
    {
     "name": "stdout",
     "output_type": "stream",
     "text": [
      "Epoch 1/1\n"
     ]
    }
   ],
   "source": [
    "hist = model.fit_generator(generator = trainGen,\n",
    "                           steps_per_epoch = len(partition[\"train\"])//batch_size,\n",
    "                           validation_data = validGen,\n",
    "                           validation_steps = len(partition[\"valid\"])//batch_size,\n",
    "                           class_weight = class_weights,\n",
    "                           epochs = max_epochs,\n",
    "                           callbacks=callbacks_list)"
   ]
  },
  {
   "cell_type": "code",
   "execution_count": null,
   "metadata": {
    "collapsed": true
   },
   "outputs": [],
   "source": []
  }
 ],
 "metadata": {
  "kernelspec": {
   "display_name": "Python [conda env:py3]",
   "language": "python",
   "name": "conda-env-py3-py"
  },
  "language_info": {
   "codemirror_mode": {
    "name": "ipython",
    "version": 3
   },
   "file_extension": ".py",
   "mimetype": "text/x-python",
   "name": "python",
   "nbconvert_exporter": "python",
   "pygments_lexer": "ipython3",
   "version": "3.6.2"
  }
 },
 "nbformat": 4,
 "nbformat_minor": 2
}
