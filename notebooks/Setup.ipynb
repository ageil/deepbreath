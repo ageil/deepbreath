{
 "cells": [
  {
   "cell_type": "code",
   "execution_count": 1,
   "metadata": {
    "ExecuteTime": {
     "end_time": "2018-03-20T18:35:22.762606Z",
     "start_time": "2018-03-20T18:35:06.864437Z"
    }
   },
   "outputs": [
    {
     "name": "stderr",
     "output_type": "stream",
     "text": [
      "/Users/anders1991/miniconda3/envs/py3/lib/python3.6/site-packages/h5py/__init__.py:36: FutureWarning: Conversion of the second argument of issubdtype from `float` to `np.floating` is deprecated. In future, it will be treated as `np.float64 == np.dtype(float).type`.\n  from ._conv import register_converters as _register_converters\nUsing TensorFlow backend.\n"
     ]
    }
   ],
   "source": [
    "# Basics\n",
    "import numpy as np\n",
    "import pandas as pd\n",
    "import os\n",
    "import pickle\n",
    "import h5py\n",
    "\n",
    "# Keras\n",
    "from keras.optimizers import Adam, Nadam\n",
    "from keras.callbacks import ModelCheckpoint, TensorBoard"
   ]
  },
  {
   "cell_type": "markdown",
   "metadata": {},
   "source": [
    "# Set hyperparameters"
   ]
  },
  {
   "cell_type": "code",
   "execution_count": 2,
   "metadata": {},
   "outputs": [],
   "source": [
    "name = \"rnn1_class\"\n",
    "classification = True\n",
    "timesteps = 1\n",
    "batch_size = 1\n",
    "learn_rate = 1e-4\n",
    "max_epochs = 50\n",
    "downsample = 2\n",
    "droprate = 0.5\n",
    "\n",
    "if classification:\n",
    "    loss = \"categorical_crossentropy\"\n",
    "else:\n",
    "    loss = \"mean_absolute_error\"\n",
    "\n",
    "if learn_rate > 0:\n",
    "    optimizer = Adam(lr = learn_rate)\n",
    "    opt = \"Adam\"\n",
    "else:\n",
    "    optimizer = Nadam()\n",
    "    opt = \"Nadam\""
   ]
  },
  {
   "cell_type": "markdown",
   "metadata": {},
   "source": [
    "# Load data partitions"
   ]
  },
  {
   "cell_type": "code",
   "execution_count": 3,
   "metadata": {
    "ExecuteTime": {
     "end_time": "2018-03-20T18:35:22.768262Z",
     "start_time": "2018-03-20T18:35:22.764588Z"
    },
    "collapsed": true
   },
   "outputs": [],
   "source": [
    "with open(\"./data/partition.pkl\", 'rb') as f:\n",
    "    partition = pickle.load(f)"
   ]
  },
  {
   "cell_type": "markdown",
   "metadata": {},
   "source": [
    "# Load labels"
   ]
  },
  {
   "cell_type": "code",
   "execution_count": 4,
   "metadata": {
    "ExecuteTime": {
     "end_time": "2018-03-20T18:35:22.837869Z",
     "start_time": "2018-03-20T18:35:22.827494Z"
    },
    "collapsed": true
   },
   "outputs": [],
   "source": [
    "target = pd.read_csv(\"./data/ERU_Scores_Ids_5-Scans_Validity-0_VisuallyScored.csv\")\n",
    "labels = target.set_index(\"StId\").to_dict()[\"ERU.M2\"]"
   ]
  },
  {
   "cell_type": "code",
   "execution_count": 5,
   "metadata": {},
   "outputs": [],
   "source": [
    "# Rescale labels\n",
    "if classification:\n",
    "    # combine 0+1 as 0 = no emph in scan, 1 = no emph in region\n",
    "    label_converter = {0: 0, 1: 0, 2: 2, 3: 3, 4: 4, 5: 5, 6: 6}\n",
    "else:\n",
    "    # Rescale labels;\n",
    "    label_converter = {0: 0.0, 1: 0.0, 2: 0.03, 3: 0.155, 4: 0.38, 5: 0.63, 6: 0.88}\n",
    "labels = {key: label_converter[val] for key, val in labels.items()}\n"
   ]
  },
  {
   "cell_type": "markdown",
   "metadata": {},
   "source": [
    "# Calculate class weights\n",
    "\n",
    "To handle imbalanced classes during training."
   ]
  },
  {
   "cell_type": "code",
   "execution_count": 6,
   "metadata": {
    "ExecuteTime": {
     "end_time": "2018-03-20T18:35:22.874927Z",
     "start_time": "2018-03-20T18:35:22.840072Z"
    },
    "collapsed": true
   },
   "outputs": [],
   "source": [
    "from sklearn.utils import class_weight"
   ]
  },
  {
   "cell_type": "code",
   "execution_count": 7,
   "metadata": {
    "ExecuteTime": {
     "end_time": "2018-03-20T18:35:22.980613Z",
     "start_time": "2018-03-20T18:35:22.876617Z"
    }
   },
   "outputs": [],
   "source": [
    "# weights only based on training data\n",
    "train_labels = [label for key, label in labels.items() if key in partition[\"train\"]]"
   ]
  },
  {
   "cell_type": "code",
   "execution_count": 8,
   "metadata": {},
   "outputs": [],
   "source": [
    "class_weights = class_weight.compute_class_weight(class_weight='balanced',\n",
    "                                                  classes=np.unique(train_labels), \n",
    "                                                  y=train_labels)"
   ]
  },
  {
   "cell_type": "markdown",
   "metadata": {},
   "source": [
    "# Import data generator"
   ]
  },
  {
   "cell_type": "code",
   "execution_count": 9,
   "metadata": {
    "ExecuteTime": {
     "end_time": "2018-03-20T18:35:23.160023Z",
     "start_time": "2018-03-20T18:35:23.156098Z"
    },
    "collapsed": true
   },
   "outputs": [],
   "source": [
    "from data_gen import DataGenerator"
   ]
  },
  {
   "cell_type": "code",
   "execution_count": 10,
   "metadata": {
    "ExecuteTime": {
     "end_time": "2018-03-20T18:35:23.170962Z",
     "start_time": "2018-03-20T18:35:23.162274Z"
    },
    "collapsed": true
   },
   "outputs": [],
   "source": [
    "trainGen = DataGenerator(\"train\", classification=classification, batch_size=batch_size,\n",
    "                         timesteps=timesteps, channels=1, dim_x=142, dim_y=322, dim_z=262, shuffle=True)\n",
    "validGen = DataGenerator(\"valid\", classification=classification, batch_size=batch_size,\n",
    "                         timesteps=timesteps, channels=1, dim_x=142, dim_y=322, dim_z=262, shuffle=True)\n",
    "\n",
    "trainGen = trainGen.generate(labels, partition[\"train\"])\n",
    "validGen = validGen.generate(labels, partition[\"valid\"])\n"
   ]
  },
  {
   "cell_type": "code",
   "execution_count": 11,
   "metadata": {},
   "outputs": [
    {
     "name": "stdout",
     "output_type": "stream",
     "text": [
      "(1, 6)\n[[1 0 0 0 0 0]]\n"
     ]
    }
   ],
   "source": [
    "X, y = trainGen.__next__()\n",
    "print(y.shape)\n",
    "print(y)"
   ]
  },
  {
   "cell_type": "markdown",
   "metadata": {},
   "source": [
    "# Import model"
   ]
  },
  {
   "cell_type": "code",
   "execution_count": 12,
   "metadata": {
    "ExecuteTime": {
     "end_time": "2018-03-20T18:35:23.177169Z",
     "start_time": "2018-03-20T18:35:23.173388Z"
    },
    "collapsed": true
   },
   "outputs": [],
   "source": [
    "from unet import tdist_unet"
   ]
  },
  {
   "cell_type": "code",
   "execution_count": 13,
   "metadata": {
    "ExecuteTime": {
     "end_time": "2018-03-20T18:35:24.113058Z",
     "start_time": "2018-03-20T18:35:23.179347Z"
    },
    "collapsed": true
   },
   "outputs": [],
   "source": [
    "model = tdist_unet(classification=True, timesteps=timesteps, downsample=downsample, droprate=0.5)"
   ]
  },
  {
   "cell_type": "code",
   "execution_count": 14,
   "metadata": {
    "ExecuteTime": {
     "end_time": "2018-03-20T18:35:24.180864Z",
     "start_time": "2018-03-20T18:35:24.115025Z"
    },
    "collapsed": false
   },
   "outputs": [],
   "source": [
    "model.compile(optimizer=optimizer, \n",
    "              loss=loss, \n",
    "              metrics=['accuracy', 'mae', 'mse'])"
   ]
  },
  {
   "cell_type": "code",
   "execution_count": 26,
   "metadata": {},
   "outputs": [
    {
     "name": "stdout",
     "output_type": "stream",
     "text": [
      "__________________________________________________________________________________________________\nLayer (type)                    Output Shape         Param #     Connected to                     \n==================================================================================================\ninput_1 (InputLayer)            (None, 1, 1, 142, 32 0                                            \n__________________________________________________________________________________________________\nTD_mpool3D (TimeDistributed)    (None, 1, 1, 71, 161 0           input_1[0][0]                    \n__________________________________________________________________________________________________\nTD_conv_1 (TimeDistributed)     (None, 1, 6, 71, 157 156         TD_mpool3D[0][0]                 \n__________________________________________________________________________________________________\nTD_ReLU_2 (TimeDistributed)     (None, 1, 6, 71, 157 0           TD_conv_1[0][0]                  \n__________________________________________________________________________________________________\nTD_down_3 (TimeDistributed)     (None, 1, 8, 36, 79, 56          TD_ReLU_2[0][0]                  \n__________________________________________________________________________________________________\nTD_ReLU_4 (TimeDistributed)     (None, 1, 8, 36, 79, 0           TD_down_3[0][0]                  \n__________________________________________________________________________________________________\nTD_conv_5 (TimeDistributed)     (None, 1, 8, 36, 75, 1608        TD_ReLU_4[0][0]                  \n__________________________________________________________________________________________________\nTD_ReLU_6 (TimeDistributed)     (None, 1, 8, 36, 75, 0           TD_conv_5[0][0]                  \n__________________________________________________________________________________________________\nTD_conv_7 (TimeDistributed)     (None, 1, 8, 36, 71, 1608        TD_ReLU_6[0][0]                  \n__________________________________________________________________________________________________\nTD_crop_9 (TimeDistributed)     (None, 1, 8, 36, 71, 0           TD_down_3[0][0]                  \n__________________________________________________________________________________________________\nmerge_8 (Add)                   (None, 1, 8, 36, 71, 0           TD_conv_7[0][0]                  \n                                                                 TD_crop_9[0][0]                  \n__________________________________________________________________________________________________\nTD_ReLU_10 (TimeDistributed)    (None, 1, 8, 36, 71, 0           merge_8[0][0]                    \n__________________________________________________________________________________________________\nTD_conv_11 (TimeDistributed)    (None, 1, 8, 36, 67, 1608        TD_ReLU_10[0][0]                 \n__________________________________________________________________________________________________\nTD_ReLU_12 (TimeDistributed)    (None, 1, 8, 36, 67, 0           TD_conv_11[0][0]                 \n__________________________________________________________________________________________________\nTD_conv_13 (TimeDistributed)    (None, 1, 8, 36, 63, 1608        TD_ReLU_12[0][0]                 \n__________________________________________________________________________________________________\nTD_crop_15 (TimeDistributed)    (None, 1, 8, 36, 63, 0           merge_8[0][0]                    \n__________________________________________________________________________________________________\nmerge_14 (Add)                  (None, 1, 8, 36, 63, 0           TD_conv_13[0][0]                 \n                                                                 TD_crop_15[0][0]                 \n__________________________________________________________________________________________________\nTD_ReLU_16 (TimeDistributed)    (None, 1, 8, 36, 63, 0           merge_14[0][0]                   \n__________________________________________________________________________________________________\nTD_down_17 (TimeDistributed)    (None, 1, 16, 36, 32 144         TD_ReLU_16[0][0]                 \n__________________________________________________________________________________________________\nTD_ReLU_18 (TimeDistributed)    (None, 1, 16, 36, 32 0           TD_down_17[0][0]                 \n__________________________________________________________________________________________________\nTD_conv_19 (TimeDistributed)    (None, 1, 16, 36, 30 2320        TD_ReLU_18[0][0]                 \n__________________________________________________________________________________________________\nTD_ReLU_20 (TimeDistributed)    (None, 1, 16, 36, 30 0           TD_conv_19[0][0]                 \n__________________________________________________________________________________________________\nTD_conv_21 (TimeDistributed)    (None, 1, 16, 36, 30 272         TD_ReLU_20[0][0]                 \n__________________________________________________________________________________________________\nTD_crop_23 (TimeDistributed)    (None, 1, 16, 36, 30 0           TD_down_17[0][0]                 \n__________________________________________________________________________________________________\nmerge_22 (Add)                  (None, 1, 16, 36, 30 0           TD_conv_21[0][0]                 \n                                                                 TD_crop_23[0][0]                 \n__________________________________________________________________________________________________\nTD_ReLU_24 (TimeDistributed)    (None, 1, 16, 36, 30 0           merge_22[0][0]                   \n__________________________________________________________________________________________________\nTD_conv_25 (TimeDistributed)    (None, 1, 16, 36, 28 2320        TD_ReLU_24[0][0]                 \n__________________________________________________________________________________________________\nTD_ReLU_26 (TimeDistributed)    (None, 1, 16, 36, 28 0           TD_conv_25[0][0]                 \n__________________________________________________________________________________________________\nTD_conv_27 (TimeDistributed)    (None, 1, 16, 36, 28 272         TD_ReLU_26[0][0]                 \n__________________________________________________________________________________________________\nTD_crop_29 (TimeDistributed)    (None, 1, 16, 36, 28 0           merge_22[0][0]                   \n__________________________________________________________________________________________________\nmerge_28 (Add)                  (None, 1, 16, 36, 28 0           TD_conv_27[0][0]                 \n                                                                 TD_crop_29[0][0]                 \n__________________________________________________________________________________________________\nTD_ReLU_30 (TimeDistributed)    (None, 1, 16, 36, 28 0           merge_28[0][0]                   \n__________________________________________________________________________________________________\nTD_down_31 (TimeDistributed)    (None, 1, 32, 36, 14 544         TD_ReLU_30[0][0]                 \n__________________________________________________________________________________________________\nTD_ReLU_32 (TimeDistributed)    (None, 1, 32, 36, 14 0           TD_down_31[0][0]                 \n__________________________________________________________________________________________________\nTD_conv_33 (TimeDistributed)    (None, 1, 32, 36, 14 1056        TD_ReLU_32[0][0]                 \n__________________________________________________________________________________________________\nTD_ReLU_34 (TimeDistributed)    (None, 1, 32, 36, 14 0           TD_conv_33[0][0]                 \n__________________________________________________________________________________________________\nTD_conv_35 (TimeDistributed)    (None, 1, 32, 36, 14 1056        TD_ReLU_34[0][0]                 \n__________________________________________________________________________________________________\nmerge_36 (Add)                  (None, 1, 32, 36, 14 0           TD_conv_35[0][0]                 \n                                                                 TD_down_31[0][0]                 \n__________________________________________________________________________________________________\nTD_ReLU_37 (TimeDistributed)    (None, 1, 32, 36, 14 0           merge_36[0][0]                   \n__________________________________________________________________________________________________\nTD_conv_38 (TimeDistributed)    (None, 1, 32, 36, 14 1056        TD_ReLU_37[0][0]                 \n__________________________________________________________________________________________________\nTD_ReLU_39 (TimeDistributed)    (None, 1, 32, 36, 14 0           TD_conv_38[0][0]                 \n__________________________________________________________________________________________________\nTD_conv_40 (TimeDistributed)    (None, 1, 32, 36, 14 1056        TD_ReLU_39[0][0]                 \n__________________________________________________________________________________________________\nmerge_41 (Add)                  (None, 1, 32, 36, 14 0           TD_conv_40[0][0]                 \n                                                                 merge_36[0][0]                   \n__________________________________________________________________________________________________\nTD_ReLU_42 (TimeDistributed)    (None, 1, 32, 36, 14 0           merge_41[0][0]                   \n__________________________________________________________________________________________________\nTD_down_43 (TimeDistributed)    (None, 1, 32, 1, 1,  0           TD_ReLU_42[0][0]                 \n__________________________________________________________________________________________________\noutput_44 (Dense)               (None, 1, 32, 1, 1,  12          TD_down_43[0][0]                 \n==================================================================================================\nTotal params: 16,752\nTrainable params: 16,752\nNon-trainable params: 0\n__________________________________________________________________________________________________\n"
     ]
    }
   ],
   "source": [
    "model.summary()"
   ]
  },
  {
   "cell_type": "markdown",
   "metadata": {},
   "source": [
    "# Setup training session"
   ]
  },
  {
   "cell_type": "code",
   "execution_count": 20,
   "metadata": {},
   "outputs": [],
   "source": [
    "directory = \"./output/\"+name+\"/\"\n",
    "if not os.path.exists(directory):\n",
    "    os.makedirs(directory)\n",
    "\n",
    "with open(\"./output/\"+name+\"/config.txt\", \"w\") as txt:\n",
    "    txt.write(\"name = {0}\\n\".format(name))\n",
    "    txt.write(\"timesteps = {0}\\n\".format(timesteps))\n",
    "    txt.write(\"batch_size = {0}\\n\".format(batch_size))\n",
    "    txt.write(\"learn_rate = {0}\\n\".format(learn_rate))\n",
    "    txt.write(\"max_epochs= {0}\\n\".format(max_epochs))\n",
    "    txt.write(\"downsample = {0}\\n\".format(downsample))\n",
    "    txt.write(\"droprate = {0}\\n\".format(droprate))\n",
    "    txt.write(\"mode = {0}\\n\".format(mode))\n",
    "    txt.write(\"loss = {0}\\n\".format(loss))\n",
    "    txt.write(\"opt = {0}\\n\".format(opt))\n",
    "\n",
    "callbacks_list = []"
   ]
  },
  {
   "cell_type": "markdown",
   "metadata": {},
   "source": [
    "Save model weights each epoch if best val acc so far"
   ]
  },
  {
   "cell_type": "code",
   "execution_count": 21,
   "metadata": {},
   "outputs": [],
   "source": [
    "modeldir = directory + \"epoch_{epoch:02d}-valacc_{val_acc:.2f}.hdf5\"\n",
    "checkpoint = ModelCheckpoint(modeldir, monitor='val_acc', save_weights_only=False, save_best_only=True, mode='max', verbose=1)\n",
    "callbacks_list.append(checkpoint)"
   ]
  },
  {
   "cell_type": "markdown",
   "metadata": {},
   "source": [
    "Add TensorBoard callback"
   ]
  },
  {
   "cell_type": "code",
   "execution_count": 23,
   "metadata": {},
   "outputs": [],
   "source": [
    "from TBCallbacks import TrainValTensorBoard\n",
    "\n",
    "tensorboard= TrainValTensorBoard(log_dir=\"./output/\"+name+\"/logs\", histogram_freq=0, write_graph=True, write_images=True) # custom TB writer object\n",
    "callbacks_list.append(tensorboard) # add tensorboard logging"
   ]
  },
  {
   "cell_type": "markdown",
   "metadata": {},
   "source": [
    "# Train model"
   ]
  },
  {
   "cell_type": "code",
   "execution_count": 18,
   "metadata": {
    "ExecuteTime": {
     "start_time": "2018-03-20T18:35:06.891Z"
    },
    "scrolled": false,
    "collapsed": false
   },
   "outputs": [
    {
     "name": "stdout",
     "output_type": "stream",
     "text": [
      "Epoch 1/1\n"
     ]
    }
   ],
   "source": [
    "hist = model.fit_generator(generator = trainGen,\n",
    "                           steps_per_epoch = len(partition[\"train\"])//batch_size,\n",
    "                           validation_data = validGen,\n",
    "                           validation_steps = len(partition[\"valid\"])//batch_size,\n",
    "                           class_weight = class_weights,\n",
    "                           epochs = max_epochs,\n",
    "                           callbacks=callbacks_list)"
   ]
  },
  {
   "cell_type": "code",
   "execution_count": null,
   "metadata": {
    "collapsed": true
   },
   "outputs": [],
   "source": []
  }
 ],
 "metadata": {
  "kernelspec": {
   "display_name": "Python [conda env:py3]",
   "language": "python",
   "name": "conda-env-py3-py"
  },
  "language_info": {
   "codemirror_mode": {
    "name": "ipython",
    "version": 3
   },
   "file_extension": ".py",
   "mimetype": "text/x-python",
   "name": "python",
   "nbconvert_exporter": "python",
   "pygments_lexer": "ipython3",
   "version": "3.6.2"
  }
 },
 "nbformat": 4,
 "nbformat_minor": 2
}
