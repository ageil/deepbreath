{
 "cells": [
  {
   "cell_type": "code",
   "execution_count": null,
   "metadata": {
    "ExecuteTime": {
     "end_time": "2018-05-09T16:48:31.853980Z",
     "start_time": "2018-05-09T16:48:30.769668Z"
    },
    "collapsed": true
   },
   "outputs": [],
   "source": [
    "import SimpleITK as sitk\n",
    "import skimage as ski\n",
    "import numpy as np\n",
    "import pandas as pd\n",
    "import os, re, glob\n",
    "import pickle\n",
    "# import ReadImages  # Image reader provided by Silas\n",
    "from IPython.display import HTML\n",
    "import matplotlib.pyplot as plt\n",
    "from matplotlib import animation\n",
    "% matplotlib inline"
   ]
  },
  {
   "cell_type": "markdown",
   "metadata": {},
   "source": [
    "-----"
   ]
  },
  {
   "cell_type": "markdown",
   "metadata": {},
   "source": [
    "# Step 1: Crop all images to minimal bounding box"
   ]
  },
  {
   "cell_type": "code",
   "execution_count": null,
   "metadata": {
    "ExecuteTime": {
     "end_time": "2018-05-09T16:48:31.869196Z",
     "start_time": "2018-05-09T16:48:31.856679Z"
    },
    "collapsed": true
   },
   "outputs": [],
   "source": [
    "def bbox(img):\n",
    "\n",
    "    # find planes with values different from 0\n",
    "    x = np.any(img, axis=(1, 2))\n",
    "    y = np.any(img, axis=(0, 2))\n",
    "    z = np.any(img, axis=(0, 1))\n",
    "\n",
    "    xmin, xmax = np.where(x)[0][[0, -1]]\n",
    "    ymin, ymax = np.where(y)[0][[0, -1]]\n",
    "    zmin, zmax = np.where(z)[0][[0, -1]]\n",
    "\n",
    "    return xmin, xmax, ymin, ymax, zmin, zmax"
   ]
  },
  {
   "cell_type": "code",
   "execution_count": null,
   "metadata": {
    "ExecuteTime": {
     "end_time": "2018-05-09T16:55:22.841956Z",
     "start_time": "2018-05-09T16:55:22.828385Z"
    },
    "collapsed": true
   },
   "outputs": [],
   "source": [
    "def max_bbox(paths):\n",
    "    x = 0\n",
    "    y = 0\n",
    "    z = 0\n",
    "    \n",
    "    for path in paths:\n",
    "        \n",
    "        # load img\n",
    "        sitk_image = sitk.ReadImage(path, sitk.sitkFloat32)\n",
    "        image = sitk.GetArrayFromImage(sitk_image)\n",
    "        \n",
    "        # update global max dims\n",
    "        x = np.max((x, image.shape[0]))\n",
    "        y = np.max((y, image.shape[1]))\n",
    "        z = np.max((z, image.shape[2]))\n",
    "            \n",
    "    return x, y, z"
   ]
  },
  {
   "cell_type": "code",
   "execution_count": null,
   "metadata": {
    "ExecuteTime": {
     "end_time": "2018-05-09T17:05:29.953448Z",
     "start_time": "2018-05-09T17:05:29.939128Z"
    },
    "collapsed": true
   },
   "outputs": [],
   "source": [
    "def min_bbox(paths):\n",
    "    x = np.inf\n",
    "    y = np.inf\n",
    "    z = np.inf\n",
    "    \n",
    "    for path in paths:\n",
    "        \n",
    "        # load img\n",
    "        sitk_image = sitk.ReadImage(path, sitk.sitkFloat32)\n",
    "        image = sitk.GetArrayFromImage(sitk_image)\n",
    "        \n",
    "        # update global max dims\n",
    "        x = np.min((x, image.shape[0]))\n",
    "        y = np.min((y, image.shape[1]))\n",
    "        z = np.min((z, image.shape[2]))\n",
    "            \n",
    "    return x, y, z"
   ]
  },
  {
   "cell_type": "code",
   "execution_count": null,
   "metadata": {
    "ExecuteTime": {
     "end_time": "2018-05-09T17:08:42.503197Z",
     "start_time": "2018-05-09T17:05:51.854811Z"
    },
    "scrolled": false
   },
   "outputs": [],
   "source": [
    "# get paths\n",
    "scan_paths = sorted(glob.glob(\"../data/Data/scans/vol*.nii\"))\n",
    "mask_paths = sorted(glob.glob(\"../data/Data/Masks/vol*.nii\"))\n",
    "\n",
    "# crop images\n",
    "dims = min_bbox(scan_paths)"
   ]
  },
  {
   "cell_type": "code",
   "execution_count": null,
   "metadata": {
    "ExecuteTime": {
     "end_time": "2018-05-09T17:08:54.421878Z",
     "start_time": "2018-05-09T17:08:54.417869Z"
    },
    "scrolled": false
   },
   "outputs": [],
   "source": [
    "print(\"Target shape:\", dims)"
   ]
  },
  {
   "cell_type": "code",
   "execution_count": null,
   "metadata": {
    "ExecuteTime": {
     "end_time": "2018-05-09T18:56:27.514202Z",
     "start_time": "2018-05-09T18:56:27.467700Z"
    },
    "collapsed": true
   },
   "outputs": [],
   "source": [
    "def crop(dims, scan_paths, mask_paths):\n",
    "    x, y, z = tuple(int(dim//2) for dim in dims)\n",
    "    \n",
    "    for img_path, mask_path in zip(scan_paths, mask_paths):\n",
    "        # load img\n",
    "        sitk_image = sitk.ReadImage(img_path, sitk.sitkFloat32)\n",
    "        image = sitk.GetArrayFromImage(sitk_image)\n",
    "        x0, y0, z0 = tuple(int(dim//2) for dim in image.shape)\n",
    "        \n",
    "        # load mask\n",
    "        sitk_image = sitk.ReadImage(mask_path, sitk.sitkFloat32)\n",
    "        mask = sitk.GetArrayFromImage(sitk_image) # 0 = background, 1 = foreground\n",
    "        bground = np.array(mask, dtype=bool)\n",
    "        \n",
    "        # shift background by -800 (cf. gerdas paper)\n",
    "        masked_image = np.ma.array(image, mask=bground)\n",
    "        masked_image -= 800 # references image\n",
    "        \n",
    "        # crop\n",
    "        cropped = image[x0-x:x0+x, y0-y:y0+y, z0-z:z0+z]\n",
    "        \n",
    "        # save\n",
    "        directory = \"../data/scans_cropped_small/\"\n",
    "        if not os.path.exists(directory):\n",
    "            os.makedirs(directory)\n",
    "        name = img_path.split(\"/\")[-1].split(\".nii\")[0]\n",
    "        file = directory + name + \".npy\"\n",
    "        np.save(file, cropped)"
   ]
  },
  {
   "cell_type": "code",
   "execution_count": null,
   "metadata": {
    "ExecuteTime": {
     "end_time": "2018-05-09T19:13:21.283148Z",
     "start_time": "2018-05-09T18:56:33.182355Z"
    },
    "scrolled": true
   },
   "outputs": [],
   "source": [
    "crop(dims, scan_paths, mask_paths)"
   ]
  },
  {
   "cell_type": "markdown",
   "metadata": {},
   "source": [
    "Visualization of cropped image (sanity check):"
   ]
  },
  {
   "cell_type": "code",
   "execution_count": null,
   "metadata": {
    "ExecuteTime": {
     "end_time": "2018-05-09T19:36:58.222624Z",
     "start_time": "2018-05-09T19:36:58.217519Z"
    },
    "scrolled": true
   },
   "outputs": [],
   "source": [
    "# # load image to visualize\n",
    "# paths = sorted(glob.glob(\"../data/scans_cropped_small/*.npy\"))\n",
    "# scan_bbox = np.load(paths[5])\n",
    "\n",
    "# # create figure\n",
    "# fig = plt.figure(figsize=(5,5))\n",
    "# i = np.linspace(1, scan_bbox.shape[0], num=scan_bbox.shape[0], dtype=int)-1\n",
    "# im = plt.imshow(scan_bbox[0,:,:], animated=True, cmap='jet', vmin=-1000, vmax=0)\n",
    "# plt.axis('off')\n",
    "\n",
    "# def animate(i):\n",
    "#     im.set_array(scan_bbox[i,:,:])\n",
    "#     return im\n",
    "\n",
    "# ani = animation.FuncAnimation(fig, animate, frames=scan_bbox.shape[0], \n",
    "#                               interval=40, repeat=False)\n",
    "# plt.close()\n",
    "# HTML(ani.to_html5_video())"
   ]
  },
  {
   "cell_type": "markdown",
   "metadata": {},
   "source": [
    "# Step 2: Batch by volume"
   ]
  },
  {
   "cell_type": "code",
   "execution_count": null,
   "metadata": {
    "ExecuteTime": {
     "end_time": "2018-05-09T19:21:15.741407Z",
     "start_time": "2018-05-09T19:21:15.734353Z"
    }
   },
   "outputs": [],
   "source": [
    "with open(\"../data/partition.pkl\", 'rb') as f:\n",
    "    partition = pickle.load(f)"
   ]
  },
  {
   "cell_type": "code",
   "execution_count": null,
   "metadata": {
    "ExecuteTime": {
     "end_time": "2018-05-09T19:31:45.367995Z",
     "start_time": "2018-05-09T19:31:22.812116Z"
    },
    "collapsed": true
   },
   "outputs": [],
   "source": [
    "train_vols = dict()\n",
    "for vol in partition[\"train\"]:\n",
    "    volpaths = glob.glob(\"../data/scans_cropped_small/vol\" + str(vol) + \"_*.npy\")\n",
    "    train_vols[vol] = volpaths\n",
    "    \n",
    "val_vols = dict()\n",
    "for vol in partition[\"valid\"]:\n",
    "    volpaths = glob.glob(\"../data/scans_cropped_small/vol\" + str(vol) + \"_*.npy\")\n",
    "    val_vols[vol] = volpaths\n",
    "    \n",
    "test_vols = dict()\n",
    "for vol in partition[\"test\"]:\n",
    "    volpaths = glob.glob(\"../data/scans_cropped_small/vol\" + str(vol) + \"_*.npy\")\n",
    "    test_vols[vol] = volpaths"
   ]
  },
  {
   "cell_type": "markdown",
   "metadata": {},
   "source": [
    "Single data point version"
   ]
  },
  {
   "cell_type": "code",
   "execution_count": null,
   "metadata": {
    "ExecuteTime": {
     "end_time": "2018-05-09T19:33:23.022321Z",
     "start_time": "2018-05-09T19:33:23.009939Z"
    },
    "collapsed": true
   },
   "outputs": [],
   "source": [
    "def batch(split, vol_dict):\n",
    "    for vol, paths in vol_dict.items():\n",
    "        paths = sorted(paths) # oldest scan first\n",
    "\n",
    "        # create volume batch\n",
    "        img0 = np.expand_dims(np.load(paths[-1]), axis=0)\n",
    "        batch = np.expand_dims(img0, axis=0)\n",
    "        \n",
    "        # output to disk\n",
    "        directory = \"../data/\" + split\n",
    "        if not os.path.exists(directory):\n",
    "            os.makedirs(directory)\n",
    "        np.save(directory + \"/vol_\" + str(vol) + \".npy\", batch)"
   ]
  },
  {
   "cell_type": "code",
   "execution_count": null,
   "metadata": {
    "ExecuteTime": {
     "end_time": "2018-05-09T19:37:10.108250Z",
     "start_time": "2018-05-09T19:37:10.105535Z"
    },
    "scrolled": true
   },
   "outputs": [],
   "source": [
    "# batch(\"single_test\", test_vols)\n",
    "# batch(\"single_valid\", val_vols)\n",
    "# batch(\"single_train\", train_vols)"
   ]
  },
  {
   "cell_type": "markdown",
   "metadata": {},
   "source": [
    "Time distributed version"
   ]
  },
  {
   "cell_type": "code",
   "execution_count": null,
   "metadata": {
    "ExecuteTime": {
     "end_time": "2018-05-09T19:37:10.983468Z",
     "start_time": "2018-05-09T19:37:10.959760Z"
    },
    "collapsed": true
   },
   "outputs": [],
   "source": [
    "def timebatch(split, vol_dict):\n",
    "    for vol, paths in vol_dict.items():\n",
    "        paths = sorted(paths) # oldest scan first\n",
    "\n",
    "        # create volume batch\n",
    "        img0 = np.expand_dims(np.load(paths[0]), axis=0)\n",
    "        batch = np.expand_dims(img0, axis=0)\n",
    "\n",
    "        for path in paths[1:]:\n",
    "            img = np.expand_dims(np.load(path), axis=0)\n",
    "            img = np.expand_dims(img, axis=0)\n",
    "            batch = np.concatenate((batch, img), axis=0)\n",
    "        \n",
    "        # output to disk\n",
    "        directory = \"../data/\" + split\n",
    "        if not os.path.exists(directory):\n",
    "            os.makedirs(directory)\n",
    "        np.save(directory + \"/vol_\" + str(vol) + \".npy\", batch)"
   ]
  },
  {
   "cell_type": "code",
   "execution_count": null,
   "metadata": {
    "ExecuteTime": {
     "end_time": "2018-05-09T19:39:31.840885Z",
     "start_time": "2018-05-09T19:38:47.914085Z"
    },
    "collapsed": true
   },
   "outputs": [],
   "source": [
    "# timebatch(\"time_test\", test_vols)\n",
    "# timebatch(\"time_valid\", val_vols)\n",
    "# timebatch(\"time_train\", train_vols)"
   ]
  },
  {
   "cell_type": "markdown",
   "metadata": {},
   "source": [
    "----"
   ]
  }
 ],
 "metadata": {
  "kernelspec": {
   "display_name": "Python [conda env:py3]",
   "language": "python",
   "name": "conda-env-py3-py"
  },
  "language_info": {
   "codemirror_mode": {
    "name": "ipython",
    "version": 3
   },
   "file_extension": ".py",
   "mimetype": "text/x-python",
   "name": "python",
   "nbconvert_exporter": "python",
   "pygments_lexer": "ipython3",
   "version": "3.6.2"
  }
 },
 "nbformat": 4,
 "nbformat_minor": 2
}
